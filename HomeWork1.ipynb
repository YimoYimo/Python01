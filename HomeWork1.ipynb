{
 "cells": [
  {
   "cell_type": "markdown",
   "metadata": {},
   "source": [
    "# 파이썬 과제\n",
    "# 2013136147 임효균\n"
   ]
  },
  {
   "cell_type": "markdown",
   "metadata": {},
   "source": [
    "####1번 a=\"Hello Python\" 문자열을 Slicing과 연결 연산자 (+)를 사용하여 \"Python Hello\"로 변경하시오.\n",
    "####[주의] a 변수 자체에 \"Python Hello\" 문자열이 저장되어야 함"
   ]
  },
  {
   "cell_type": "code",
   "execution_count": 4,
   "metadata": {
    "collapsed": false
   },
   "outputs": [
    {
     "name": "stdout",
     "output_type": "stream",
     "text": [
      "Python Hello\n"
     ]
    }
   ],
   "source": [
    "a=\"Hello Python\"\n",
    "a=a[6:] +\" \" + a[:5]\n",
    "print a\n"
   ]
  },
  {
   "cell_type": "markdown",
   "metadata": {},
   "source": [
    "설명:슬라이싱은 문자열을 원하는만큼 자르는 기능이며 [처음 인덱스 : 끝 인덱스] 이다.\n",
    "a 변수에 문자열 Hello Python을 할당하고  a[6:] 6번째 인덱스부터 마지막까지 와 a[:5] 처음부터 5인덱스까지 잘라서 더하고 a에 다시 할당했다.\n"
   ]
  },
  {
   "cell_type": "markdown",
   "metadata": {},
   "source": [
    "####2번 b=\"Hello Python World\" 문자열을 Slicing과 연결 연산자 (+)를 사용하여 \"World Python Hello\"로 변경하시오.\n",
    "####[주의] b 변수 자체에 \"Python Hello\" 문자열이 저장되어야 함"
   ]
  },
  {
   "cell_type": "code",
   "execution_count": 6,
   "metadata": {
    "collapsed": false
   },
   "outputs": [
    {
     "name": "stdout",
     "output_type": "stream",
     "text": [
      "Python Hello\n"
     ]
    }
   ],
   "source": [
    "b=\"Hello Python World\"\n",
    "b=b[6:13]+b[:5]\n",
    "print b\n"
   ]
  },
  {
   "cell_type": "markdown",
   "metadata": {},
   "source": [
    "설명:b에 Hello Python Wordl 문자열을 할당하고 슬라이싱을 사용하여 \"Python \" 과 \"Hello\"를 잘라서 더한 문자열을 b에 다시 할당하고 출력하였다."
   ]
  },
  {
   "cell_type": "markdown",
   "metadata": {},
   "source": [
    "#### 3번 c=\"Hello\"를 \"olleH\"로 변경하시오\n",
    "#### [주의] c 변수 자체에 \"olleH\" 문자열이 저장되어야 함"
   ]
  },
  {
   "cell_type": "code",
   "execution_count": 8,
   "metadata": {
    "collapsed": false
   },
   "outputs": [
    {
     "name": "stdout",
     "output_type": "stream",
     "text": [
      "olleH\n"
     ]
    }
   ],
   "source": [
    "c=\"Hello\"\n",
    "c=c[::-1]\n",
    "print c"
   ]
  },
  {
   "cell_type": "markdown",
   "metadata": {},
   "source": [
    "설명:슬라이싱의[::해당 값으로 스텝] 3번째 인자는 입력한 값만큰 문자열 스텝을 한다. C에 문자열 \"Hello\" 를 할당하고 [::-1] 을 한 문자열을 C에 다시할당해주어 Hello 의 반대인 olleH 가 출력되도록 한다"
   ]
  },
  {
   "cell_type": "markdown",
   "metadata": {},
   "source": [
    "####4번 s=\"python\"에 대해 다음 문제를 풀어보시오.\n",
    "####s[0], s[0][0], s[0][0][0]은 각각 어떤 값이 나오는지 확인하고 그 이유를 나름대로 설명해 보시오.\n",
    "####s[-100], s[100]은 값이 나오는지 에러가 나오는지 확인하고 그 결과에 대한 이유를 나름대로 설명해 보시오.\n",
    "####s[-100, 100]은 값이 나오는지 에러가 나오는지 확인하고 그 결과에 대한 이유를 나름대로 설명해 보시오.\n",
    "####s[1:-1]의 결과를 확인하고 그 결과에 대한 이유를 정확하게 설명하시오.\n",
    "####s[3:-3]의 결과를 확인하고 그 결과에 대한 이유를 정확하게 설명하시오."
   ]
  },
  {
   "cell_type": "code",
   "execution_count": 66,
   "metadata": {
    "collapsed": false
   },
   "outputs": [
    {
     "name": "stdout",
     "output_type": "stream",
     "text": [
      "P\n",
      "P\n",
      "P\n",
      "\n",
      "ytho\n",
      "\n"
     ]
    }
   ],
   "source": [
    "s=\"Python\"\n",
    "print s[0]\n",
    "print s[0][0]\n",
    "print s[0][0][0]\n",
    "print\n",
    "##ptint s[-100] 에러\n",
    "##print s[100]  에러\n",
    "##print s[0,1]  에러\n",
    "print s[1:-1]\n",
    "print s[3:-3]   "
   ]
  },
  {
   "cell_type": "markdown",
   "metadata": {},
   "source": [
    "설명: \n",
    "-s[0], s[0][0], s[0][0][0] 모두 p 가 나오며 s에 할당된 문자열이 \"python\" 하나이고 s[0], s[0][0], s[0][0][0] 모두 0번째 인덱스를 가리키므로 가장 앞 인덱스의 값이 출력된다\n",
    "\n",
    "-s[-100] , s[100] 가 오류가 나는 이유는 s에 저장된 문자열의 인덱스를 넘어선 인덱스를 사용하려 했기 때문이다.\n",
    "\n",
    "-s[-100,100] 잘못된 사용방법이다.\n",
    "\n",
    "-s[1:-1] 1번째 인데스인 y부터 시작해서  문자열 인덱스 뒤에서 -1 인 인덱스 즉 o 자리의 인덱스까지 출력을 한다. ytho가 출력됨\n",
    "\n",
    "-s[3:-3] 3번 째인덱스부터  h부터 시작해서 문자열 인덱스 뒤에서 -3인 인덱스 t 까지 출력을 한다. 하지만 범위가 맞지 않아 아무것도 출력되지 않는다. "
   ]
  },
  {
   "cell_type": "markdown",
   "metadata": {},
   "source": [
    "####5번 for문을 활용하여 1부터 100사이의 홀수를 출력하시오."
   ]
  },
  {
   "cell_type": "code",
   "execution_count": 77,
   "metadata": {
    "collapsed": false
   },
   "outputs": [
    {
     "name": "stdout",
     "output_type": "stream",
     "text": [
      "1\n",
      "3\n",
      "5\n",
      "7\n",
      "9\n",
      "11\n",
      "13\n",
      "15\n",
      "17\n",
      "19\n",
      "21\n",
      "23\n",
      "25\n",
      "27\n",
      "29\n",
      "31\n",
      "33\n",
      "35\n",
      "37\n",
      "39\n",
      "41\n",
      "43\n",
      "45\n",
      "47\n",
      "49\n",
      "51\n",
      "53\n",
      "55\n",
      "57\n",
      "59\n",
      "61\n",
      "63\n",
      "65\n",
      "67\n",
      "69\n",
      "71\n",
      "73\n",
      "75\n",
      "77\n",
      "79\n",
      "81\n",
      "83\n",
      "85\n",
      "87\n",
      "89\n",
      "91\n",
      "93\n",
      "95\n",
      "97\n",
      "99\n"
     ]
    }
   ],
   "source": [
    "for x in range(100):\n",
    "    if x % 2 == 1: \n",
    "        print x\n",
    "\n"
   ]
  },
  {
   "cell_type": "markdown",
   "metadata": {},
   "source": [
    "설명: for 문안에 if문을 추가하여 나머지가 1이될경우 홀수로 판단하여 출력되게 만들었습니다."
   ]
  },
  {
   "cell_type": "markdown",
   "metadata": {},
   "source": [
    "#### 6번 while문을 활용하여 1부터 100사이의 짝수의 합을 계산하여 출력하시오."
   ]
  },
  {
   "cell_type": "code",
   "execution_count": 88,
   "metadata": {
    "collapsed": false
   },
   "outputs": [
    {
     "name": "stdout",
     "output_type": "stream",
     "text": [
      "2550\n"
     ]
    }
   ],
   "source": [
    "sum = 0\n",
    "count = 1\n",
    "\n",
    "while count<=100 :\n",
    "    if count%2==0 :\n",
    "        sum=sum+count     \n",
    "    count = count + 1   \n",
    "    \n",
    "print sum\n",
    "    "
   ]
  },
  {
   "cell_type": "markdown",
   "metadata": {},
   "source": [
    "sum 과 count 변수를 선언하고  while 문에 <=100 조건을 지정해주어 1부터 100까지 돌아가면서 짝수인 갑승ㄹ 찿는 if 문을 통해서 sum 변수에 짝수들을 저장해주고 while문이 다 돌면 더한 짝수값을 출력해줍니다."
   ]
  },
  {
   "cell_type": "markdown",
   "metadata": {},
   "source": [
    "#### 7번 사용자로 부터 임의의 정수를 입력받고, 해당 숫자를 역순으로 출력하는 프로그램을 작성하시오.\n",
    "\n",
    "####  [실행 예]\n",
    "\n",
    "####  정수를 입력하세요: 3125\n",
    "####  숫자 역순은 5213 입니다."
   ]
  },
  {
   "cell_type": "code",
   "execution_count": 1,
   "metadata": {
    "collapsed": false
   },
   "outputs": [
    {
     "name": "stdout",
     "output_type": "stream",
     "text": [
      "input number: 5198\n",
      "숫자 역순은 8915  입니다\n"
     ]
    }
   ],
   "source": [
    "x = raw_input(\"input number: \")\n",
    "\n",
    "print \"숫자 역순은\", int(x[::-1]),\" 입니다\"  "
   ]
  },
  {
   "cell_type": "markdown",
   "metadata": {
    "collapsed": true
   },
   "source": [
    "설명: 5198 정수를 raw_input 문자열 입력 함수로 입력받아 슬라이스를 사용하여 역으로 바꾸고 int 형으로 변환하여 출력하였습니다."
   ]
  },
  {
   "cell_type": "markdown",
   "metadata": {},
   "source": [
    "####8번 사용자로 부터 정수를 입력받아서 1부터 그 사이에 존재하는 소수 (Prime number)를 출력하는 파이썬 프로그램을 작성하시오."
   ]
  },
  {
   "cell_type": "code",
   "execution_count": 3,
   "metadata": {
    "collapsed": false
   },
   "outputs": [
    {
     "name": "stdout",
     "output_type": "stream",
     "text": [
      "input number: 50\n",
      "2\n",
      "3\n",
      "5\n",
      "7\n",
      "11\n",
      "13\n",
      "17\n",
      "19\n",
      "23\n",
      "29\n",
      "31\n",
      "37\n",
      "41\n",
      "43\n",
      "47\n"
     ]
    }
   ],
   "source": [
    "number = input(\"input number: \")\n",
    "\n",
    "for i in range(2,number+1):\n",
    "    for j in range(2,i+1):\n",
    "        if i%j==0 :\n",
    "            if i==j : \n",
    "                print i\n",
    "            else:\n",
    "                 break\n",
    "                \n",
    "            "
   ]
  },
  {
   "cell_type": "markdown",
   "metadata": {},
   "source": [
    "설명: 1은 소수가 아니기때문에 제외시키고,  2부터 구할 수까지 변수 i에 저장할 for문은 하나 돌리고 그안에 비교하기 위한 변수 j를 돌립니다 i를 j(2부터 i값과 같아질때까지 증가)로 계속 나눠주면서 나머지가 0이되는 값을 찿고(i%j==0) 그값이 자기자신인 값(i==j) 즉 소수인값일경우 출력을 합니다.\n",
    "\n"
   ]
  },
  {
   "cell_type": "markdown",
   "metadata": {},
   "source": [
    "####프로젝트 오일러 1\n",
    "\n"
   ]
  },
  {
   "cell_type": "code",
   "execution_count": 7,
   "metadata": {
    "collapsed": false
   },
   "outputs": [
    {
     "name": "stdout",
     "output_type": "stream",
     "text": [
      "233168\n"
     ]
    }
   ],
   "source": [
    "sum=0\n",
    "for x in range(1,1000):\n",
    "    if x%3==0 or x%5==0:\n",
    "       sum=sum+x\n",
    "print sum\n"
   ]
  },
  {
   "cell_type": "markdown",
   "metadata": {},
   "source": [
    "설명: 1~1000 까지 for문으로 돌리면서 if문으로 3과 5로 나누어 떨어지는 값들을 찿아 sum 변수에 넣는다."
   ]
  },
  {
   "cell_type": "markdown",
   "metadata": {},
   "source": [
    "####프로젝트 오일러2"
   ]
  },
  {
   "cell_type": "code",
   "execution_count": 2,
   "metadata": {
    "collapsed": false
   },
   "outputs": [
    {
     "name": "stdout",
     "output_type": "stream",
     "text": [
      "4613732\n"
     ]
    }
   ],
   "source": [
    "def fibo(number):\n",
    "    a,b=1,2\n",
    "    temp=0\n",
    "    sum=0\n",
    "    \n",
    "    while b<number:\n",
    "        if b%2==0:\n",
    "            sum=sum+b\n",
    "        \n",
    "        temp=a+b\n",
    "        a=b\n",
    "        b=temp\n",
    "        \n",
    "        \n",
    "    print sum\n",
    "    \n",
    "fibo(4000000)"
   ]
  },
  {
   "cell_type": "markdown",
   "metadata": {
    "collapsed": true
   },
   "source": [
    "설명: a,b 에 1,2를 할당하고 a,b 값을 더한 수를 temp에 임시저장하고 a에는 b의값을 넣고 b에는 a+b의 값을 넣어준다. 그렇게해서 피보나치수열을 구현하였고 if문을 추가해 짝수일때만 합하여 값을 구하도록 하였습니다."
   ]
  },
  {
   "cell_type": "markdown",
   "metadata": {},
   "source": [
    "####프로젝트 오일러3"
   ]
  },
  {
   "cell_type": "code",
   "execution_count": 4,
   "metadata": {
    "collapsed": false
   },
   "outputs": [
    {
     "name": "stdout",
     "output_type": "stream",
     "text": [
      "input primenumber range : 7000\n",
      "input number: 600851475143\n",
      "6857\n"
     ]
    }
   ],
   "source": [
    "number = input(\"input primenumber range : \")             ## 소수 범위 넣기\n",
    "\n",
    "prime = []\n",
    "\n",
    "for i in range(2,number+1):\n",
    "    for j in range(2,i+1):\n",
    "        if i%j==0 :\n",
    "            if i==j : \n",
    "                prime.append(i)\n",
    "            else:\n",
    "                 break\n",
    "                \n",
    " \n",
    "\n",
    "\n",
    "number2 = input(\"input number: \")                   ## 소인수분해를 하여 그중 최대소수 구할 수 입력\n",
    "maxprime=0\n",
    "n=0\n",
    "\n",
    "while True:\n",
    "    if number2 == prime[n]:\n",
    "        maxprime = prime[n]\n",
    "        break\n",
    "    elif number2%prime[n]==0 :\n",
    "        number2=number2/prime[n]    \n",
    "        \n",
    "        \n",
    "    elif number2%prime[n]!=0 :\n",
    "        n=n+1\n",
    "        \n",
    "print maxprime   \n",
    "                                      \n",
    "\n",
    "   "
   ]
  },
  {
   "cell_type": "markdown",
   "metadata": {},
   "source": [
    "설명: \n",
    "\n",
    "1.구할 소수범위를 먼저 입력해주고  리스트에 그 소수들을 집어넣어줍니다. \n",
    "2.소인수분해할 수를 입력하여서 리스트에 있는 값들을 꺼내와서 if number2 == prime[n] 값이 같은지 확인하고 같을경우 더이상 나누지를 못하므로 그값이 최대 소수가 됩니다.  \n",
    "3.아닐경우 number2%prime[n]==0  이 if문을 통해서 이 값에 맞는 소수인지를 먼저 확인하고 맞을 경우 나눈값을 다시 number2에 할당합니다.   \n",
    "4. 3번 작업을 하다가 만약 맞는 소수가 아닐경우 즉 number2%prime[n]!=0  일때는 리스트에 저장된 다음 소수값을 불러옵니다. 다시 3번으로가 2번조건이 될떄까지 반복합니다.\n",
    "#  \n",
    "#  \n"
   ]
  },
  {
   "cell_type": "markdown",
   "metadata": {},
   "source": [
    "#소감\n",
    "\n",
    "##코딩을 정말 오랜만에 해서 어렵기도 했지만 하는내내 즐거웠습니다.  8번문제 소수 구하는 문제에 막혀서 조금 힘들었지만..  그문제 해결하고 나서부터 나머지문제는 술술 잘 풀렸던것 같습니다. \n",
    "##이번기회에 교수님이 주신 과제를 해결하면서 코딩실력을 다시 원상복귀 시키고 싶습니다.  과제량이 좀 많긴하지만 실력은 확실히 는다는 느낌이 들어서 이번 스크립트 프로그래밍을 수강한것이 정말 좋은 선택이라고 생각했습니다. 다른 친구들에게도 이과목을 추천해주고싶습니다.\n",
    "## 남은 수업도 잘부탁드립니다 열심히하겠습니다."
   ]
  },
  {
   "cell_type": "code",
   "execution_count": null,
   "metadata": {
    "collapsed": true
   },
   "outputs": [],
   "source": []
  }
 ],
 "metadata": {
  "kernelspec": {
   "display_name": "Python 2",
   "language": "python",
   "name": "python2"
  },
  "language_info": {
   "codemirror_mode": {
    "name": "ipython",
    "version": 2
   },
   "file_extension": ".py",
   "mimetype": "text/x-python",
   "name": "python",
   "nbconvert_exporter": "python",
   "pygments_lexer": "ipython2",
   "version": "2.7.9"
  }
 },
 "nbformat": 4,
 "nbformat_minor": 0
}
