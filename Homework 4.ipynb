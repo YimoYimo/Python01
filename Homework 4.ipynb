{
 "cells": [
  {
   "cell_type": "markdown",
   "metadata": {},
   "source": [
    "# 파이썬 Assignment 4 #\n",
    "# 2013136147 임효균 #\n",
    "***"
   ]
  },
  {
   "cell_type": "markdown",
   "metadata": {},
   "source": [
    "#####[1번 문제]\n",
    "파일 s.txt 내의 다음 내용과 함께 아래 문제의 코드를 제시하시오\n",
    ">pig ham    \n",
    ">cat do    \n",
    ">ham bird    \n",
    ">dog pig\n",
    "\n",
    "1) 파일 s.txt을 읽어서 각 라인에 있는 첫 번째 단어(문자열) 자체들을 기준으로 라인별 정렬후 파일 s1.txt에 그 결과를 기록하는 코드를 작성하시오. 즉, 프로그램 수행 후 s1.txt에 있는 파일 내용은 다음과 같다.\n",
    "\n",
    ">cat dog   \n",
    ">dog pig   \n",
    ">ham bird   \n",
    ">pig ham "
   ]
  },
  {
   "cell_type": "code",
   "execution_count": 4,
   "metadata": {
    "collapsed": false
   },
   "outputs": [
    {
     "name": "stdout",
     "output_type": "stream",
     "text": [
      "cat dog\n",
      "dog pig\n",
      "ham bird\n",
      "pig ham\n",
      "\n"
     ]
    }
   ],
   "source": [
    "f = open('s.txt','r')\n",
    "s = f.readlines()\n",
    "s.sort()\n",
    "f.close()\n",
    "\n",
    "f=open('s1.txt','w')\n",
    "f.writelines(s)\n",
    "f.close()\n",
    "\n",
    "f=open('s1.txt','r')\n",
    "s=f.read()\n",
    "print s\n",
    "f.close()\n"
   ]
  },
  {
   "cell_type": "markdown",
   "metadata": {},
   "source": [
    "설명: s.txt를 읽어와 readlines() 함수를 사용하여 각 라인을 모두 읽어서 변수 s 에 리스트로 저장합니다 리스트의 sort() 함수를 사용하여 첫번째 단어를 기준으로 라인별 정렬후 s1.txt 을 쓰기로 열어서 리스트안에 있는 각 문자열을 s1.txt 에 연속해서 파일로 출력시킵니다. \n",
    "마지막으로 결과를 확인하기위해 s1.txt 파일을 읽기전용으로 열어 출력합니다.\n",
    "\n",
    "------"
   ]
  },
  {
   "cell_type": "markdown",
   "metadata": {},
   "source": [
    "2) 파일 s.txt을 읽어서 각 라인에 있는 두 번째 단어(문자열) 자체들을 기준으로 라인별 정렬후 파일 s2.txt에 그 결과를 기록하는 코드를 작성하시오. 즉, 프로그램 수행 후 s2.txt에 있는 파일 내용은 다음과 같다."
   ]
  },
  {
   "cell_type": "markdown",
   "metadata": {},
   "source": [
    ">ham bird  \n",
    ">cat dog  \n",
    ">pig ham  \n",
    ">dog pig  "
   ]
  },
  {
   "cell_type": "code",
   "execution_count": 15,
   "metadata": {
    "collapsed": false
   },
   "outputs": [
    {
     "name": "stdout",
     "output_type": "stream",
     "text": [
      "ham bird\n",
      "cat dog\n",
      "pig ham\n",
      "dog pig\n",
      "\n"
     ]
    }
   ],
   "source": [
    "def cmp_1(a1,a2):\n",
    "    return cmp(a1[4],a2[4])\n",
    "\n",
    "f=open('s.txt','r')\n",
    "s = f.readlines()\n",
    "s.sort(cmp_1)\n",
    "f.close()\n",
    "\n",
    "f=open('s2.txt','w')\n",
    "f.writelines(s)\n",
    "f.close()\n",
    "\n",
    "f=open('s2.txt','r')\n",
    "print f.read()\n",
    "f.close()"
   ]
  },
  {
   "cell_type": "markdown",
   "metadata": {},
   "source": [
    "설명: 리스트 원소의 4번째 인덱스를 기준으로 정렬을 하기위해 cmp_1 함수를 생성합니다 , s.txt 파일을 읽기전용으로 열어서 라인 단위로 읽어 리스트로 저장하고 sort() 함수 인자로 cmp_1 함수를 넣어주어 4번째 인덱스를 기준으로 정렬을 할수 있도록 변경합니다.\n",
    "정렬을 하고난후 리스트안의 문자열들을 s2.txt 파일에 출력시키고 다시 읽어서 출력을 시켜주어 정상적으로 파일이 저장되었다는것을 보여줍니다.\n",
    "\n",
    "-----"
   ]
  },
  {
   "cell_type": "markdown",
   "metadata": {},
   "source": [
    "3) 파일 s.txt을 읽어서 각 라인들에 있는 모든 단어들을 순차적으로 다시 나열하되 각 라인에 세 개의 단어들이 오도록 하여 s3.txt에 기록하는 코드를 작성하시오. 즉, 프로그램 수행 후 s3.txt에 있는 파일 내용은 다음과 같다.\n",
    "\n",
    ">pig ham cat  \n",
    ">dog ham bird  \n",
    ">dog pig  "
   ]
  },
  {
   "cell_type": "code",
   "execution_count": 25,
   "metadata": {
    "collapsed": false
   },
   "outputs": [
    {
     "name": "stdout",
     "output_type": "stream",
     "text": [
      "pig ham cat\n",
      "dog ham bird\n",
      "dog pig \n"
     ]
    }
   ],
   "source": [
    "f = open('s.txt','r')\n",
    "s=f.read()\n",
    "l=s.split()\n",
    "\n",
    "count = 0 \n",
    "line=[]\n",
    "text=\"\"\n",
    "\n",
    "for a in l:\n",
    "    if count == 2:\n",
    "        count=0\n",
    "        text=\"\"\n",
    "        line.append(a+'\\n')            \n",
    "    else:    \n",
    "        line.append(a+\" \")\n",
    "        count = count + 1\n",
    "\n",
    "f.close()\n",
    "\n",
    "f = open('s3.txt','w')\n",
    "f.writelines(line)\n",
    "f.close()\n",
    "\n",
    "f = open('s3.txt','r')\n",
    "print f.read()\n",
    "f.close()"
   ]
  },
  {
   "cell_type": "markdown",
   "metadata": {},
   "source": [
    "설명: s.txt를 읽어온 문자열들을 split()함수를 사용하여 공백을 기준으로 잘라 변수l에 리스트로 저장한다. for문을 사용하여 리스트안에 원소들을 하나씩 뽑아올때마다 count 변수의 수를 1씩 증가시키고 3번째 문자열 마다 개행문자 \\n 을 넣어주어 line 리스트에 append 시킨다.\n",
    "writelines() 함수를 사용하여 리스트안의 문자열들을 s3.txt 파일에 출력시킨다.\n",
    "\n",
    "-----"
   ]
  },
  {
   "cell_type": "markdown",
   "metadata": {},
   "source": [
    "#####[2번 문제]"
   ]
  },
  {
   "cell_type": "markdown",
   "metadata": {},
   "source": [
    "다음과 같은 조건들을 참고하여 회원 가입 및 로그인 프로그램을 작성하시오.  \n",
    "- 1) 프로그램 시작 후 다음과 같은 메시지가 출력되어 1, 2, 3 중 하나의 값을 입력 받도록 한다.\n",
    ">Welcome to Our Service  \n",
    ">\n",
    ">1.Sign Up  \n",
    ">2.Sign In  \n",
    ">3.Quit\n",
    "\n",
    "\n"
   ]
  },
  {
   "cell_type": "markdown",
   "metadata": {
    "collapsed": true
   },
   "source": [
    "- 2) 1을 선택하면 ID, Password, Name, School의 4가지 정보를 입력받아 파일에 저장하는 프로그램을 작성한다.\n",
    ">- 2-1) 입력된 내용은 access.txt 라는 이름의 텍스트 파일 내에 저장된다.\n",
    ">- 2-2) access.txt 파일의 각 라인에는 가입된 회원 각각의 정보가 \"[id]: [password], [name], [school]\" 형태로 저장된다.\n",
    ">- 2-3) 즉, 가입 회원이 10명이면 access.txt 파일 내에 라인 수도 정확히 10개이다.\n",
    ">- 2-4) 암호화 방식은 sha 모듈을 활용한다. sha 모듈 활용 방법은 본 문제의 마지막에 제시된 sha 활용 예를 참고한다.즉, access.txt 파일 내에 password 정보는 암호화 되어 저장되어야 한다.\n",
    ">- 2-5) 회원 정보를 입력 받을 때 id를 입력 받은 직후 access.txt를 확인하여 이미 존재하는 id가 입력되었다면 다음 메시지를 출력하고 id 정보를 다시 입력받는다.\n",
    ">>- Sorry, the entered ID is already used.\n",
    "\n",
    "- 3) 2를 선택하면 ID, Password의 2가지 정보를 입력받는 프로그램을 작성한다.\n",
    ">- 3-1) 입력된 ID 정보가 access.txt에 존재하지 않으면 다음과 같은 메시지를 출력하고 다시 입력받는다.\n",
    ">>- Sorry, you are not a registered member.\n",
    ">- 3-2) 입력된 ID가 올바르게 존재하지만 Password 정보가 access.txt 파일에 있는 정보와 불일치하면 다음과 같은 메시지를 출력하고 Password를 다시 입력받는다.\n",
    ">>- Sorry, the entered password is not correct.\n",
    "이 때에도 사용자가 입력한 Password 정보와 함께 sha 모듈이 활용되어야 한다.\n",
    ">- 3-3) 입력된 ID와 Password가 모두 올바르면 다음과 같은 메시지를 출력한다.\n",
    "Hello [name]!\n",
    "위 [name]에는 access.txt에 기록되어 있는 name 정보를 출력한다.\n",
    "\n",
    "- 4) 3을 선택하면 프로그램이 끝난다.\n",
    "\n",
    "[참고] sha 모듈 활용 예"
   ]
  },
  {
   "cell_type": "code",
   "execution_count": 42,
   "metadata": {
    "collapsed": false
   },
   "outputs": [
    {
     "name": "stdout",
     "output_type": "stream",
     "text": [
      "------------------------\n",
      "Welcome to Our Service\n",
      "\n",
      "\n",
      "1.Sign Up\n",
      "\n",
      "2.Sign in\n",
      "\n",
      "3.Quit\n",
      "\n",
      "------------------------\n",
      "1\n",
      "ID:python\n",
      "Password:123\n",
      "Name:hyokyun\n",
      "School:koreatech\n",
      "------------------------\n",
      "Welcome to Our Service\n",
      "\n",
      "\n",
      "1.Sign Up\n",
      "\n",
      "2.Sign in\n",
      "\n",
      "3.Quit\n",
      "\n",
      "------------------------\n",
      "2\n",
      "Input ID:python\n",
      "Input Password:123\n",
      "Hello hyokyun\n",
      "------------------------\n",
      "Welcome to Our Service\n",
      "\n",
      "\n",
      "1.Sign Up\n",
      "\n",
      "2.Sign in\n",
      "\n",
      "3.Quit\n",
      "\n",
      "------------------------\n",
      "2\n",
      "Input ID:python\n",
      "Input Password:321\n",
      "Sorry, the entered password is not correct.\n",
      "------------------------\n",
      "Welcome to Our Service\n",
      "\n",
      "\n",
      "1.Sign Up\n",
      "\n",
      "2.Sign in\n",
      "\n",
      "3.Quit\n",
      "\n",
      "------------------------\n",
      "2\n",
      "Input ID:ppyy\n",
      "Sorry, you are not a registered member.\n",
      "------------------------\n",
      "Welcome to Our Service\n",
      "\n",
      "\n",
      "1.Sign Up\n",
      "\n",
      "2.Sign in\n",
      "\n",
      "3.Quit\n",
      "\n",
      "------------------------\n",
      "3\n",
      "bye bye\n"
     ]
    }
   ],
   "source": [
    "import sha\n",
    "import os\n",
    "\n",
    "def display():\n",
    "    print('------------------------')\n",
    "    print(\"Welcome to Our Service\\n\")\n",
    "    print\n",
    "    print ('1.Sign Up\\n')\n",
    "    print ('2.Sign in\\n')\n",
    "    print ('3.Quit\\n')\n",
    "    print('------------------------')\n",
    "    return input()\n",
    "\n",
    "def idcheck():\n",
    "        f = open('access.txt','r')                    \n",
    "        line = f.readline()                         \n",
    "        l=[]\n",
    "        \n",
    "        while line:                                        ## id 검사를 하기위해 각라인을읽어와  ':' 로 split 하여 리스트로 저장한다. \n",
    "            l.extend(line.split(':'))   \n",
    "            line = f.readline()\n",
    "        f.close\n",
    "      \n",
    "        idchk = l[0::2]                                   ## 슬라이스를 사용하여 id만 뽑아낸다.\n",
    "        \n",
    "        \n",
    "        \n",
    "        return idchk\n",
    "    \n",
    "def info(idin):\n",
    "    \n",
    "        f = open('access.txt','r')                    \n",
    "        line = f.readline()                         \n",
    "        l=[]\n",
    "        \n",
    "        while line:                                        \n",
    "            l.extend(line.split(':'))   \n",
    "            line = f.readline()\n",
    "        f.close\n",
    "        idchk = l[0::2]     \n",
    "\n",
    "        l2=[]\n",
    "        f.seek(0)\n",
    "        l2 = f.read().split(':')\n",
    "        l2 = l2[1::]\n",
    "   \n",
    "        \n",
    "        return l2[idchk.index(idin)].split(',')[0],l2[idchk.index(idin)].split(',')[1],l2[idchk.index(idin)].split(',')[2]\n",
    "\n",
    "\n",
    "\n",
    "    \n",
    "\n",
    "\n",
    "def signup():\n",
    "    member = []\n",
    "    \n",
    "    \n",
    "    filelist = os.listdir('.')                             ## 디렉토리내에  access.txt가 있는지 검사한다. 만약 있을경우 \n",
    "    if 'access.txt' in filelist:                           ##  open('access.txt','r') 읽기전용으로 읽어온다.\n",
    "\n",
    "        idchk = idcheck()                                  \n",
    "               \n",
    "        while 1:\n",
    "            idt = raw_input('ID:')  \n",
    "            if idt not in idchk :                          ## access.txt 파일에 저장된 id와 입력한 id를 검사한다\n",
    "                member.append(idt+':')                                                ## 문자열 입력 raw_input()\n",
    "                member.append(sha.new(raw_input('Password:')).hexdigest() +',')       ## 암호 변환\n",
    "                member.append(raw_input('Name:')+',')\n",
    "                member.append(raw_input('School:')+'\\n')\n",
    "                break\n",
    "            else:\n",
    "                print('Sorry, the entered ID is already used.')\n",
    "                \n",
    "    \n",
    "    \n",
    "    else:                                                                    ##디렉토리내에 access.txt 파일이 없을경우 그냥 생성\n",
    "        member.append(raw_input('ID:')+':')                                  ## 문자열 입력 raw_input()\n",
    "        member.append(sha.new(raw_input('Password:')).hexdigest() +',')      ## 암호 변환\n",
    "        member.append(raw_input('Name:')+',')\n",
    "        member.append(raw_input('School:')+'\\n')\n",
    "     \n",
    "        \n",
    "    f = open('access.txt','a')\n",
    "    f.writelines(member)\n",
    "    f.close\n",
    "   \n",
    "\n",
    "def signin():\n",
    "    \n",
    "    idchk=idcheck()\n",
    "    \n",
    "    idin = raw_input(\"Input ID:\")\n",
    "    \n",
    "    while 1:\n",
    "        if idin not in idchk :\n",
    "            print('Sorry, you are not a registered member.')\n",
    "            break\n",
    "            \n",
    "        pwdin = sha.new(raw_input(\"Input Password:\")).hexdigest()\n",
    "      \n",
    "        if info(idin)[0] == pwdin:\n",
    "            print('Hello %s' % info(idin)[1])\n",
    "            break\n",
    "        else:\n",
    "            print('Sorry, the entered password is not correct.')\n",
    "            break\n",
    "            \n",
    "    \n",
    "    \n",
    "while 1:\n",
    "    \n",
    "    num = display()\n",
    "\n",
    "    if num == 1:\n",
    "        signup()\n",
    "    elif num==2:\n",
    "        signin()\n",
    "    elif num==3:\n",
    "        print('bye bye')\n",
    "        break\n",
    "    \n"
   ]
  },
  {
   "cell_type": "markdown",
   "metadata": {
    "collapsed": false
   },
   "source": [
    "설명 \n",
    "- dispay() 함수는 메인화면을 출력해주며 숫자를 입력해 리턴해줍니다.  \n",
    "- idcheck() 함수는 access.txt 에서 파일을 읽어 readline()함수를 이용하여 개행단위로 문자열을 읽고 split(':')와 슬라이스를 이용하여 id만을 추출해 리스트에 저장시킵니다. id만 저장된 이 리스트를 리턴해 줍니다.\n",
    "- infor(idin) 함수는 아이디를 인자로 받아 password 와 name , school 정보를 얻을수 있으며 idcheck() 에서 썻던 기능을 그대로 사용하여 id를 추출한 리스트를 만들고 id가 저장된 리스트의 인덱스번호와 스플릿 슬라이싱을 사용하여 비밀번호,이름,학교명을 튜플로 리턴합니다.\n",
    "- signup() 함수는 회원가입기능이 있는 함수로 가잠언저 access.txt 파일이 폴더내에 존재하는지 확인합니다 없을경우 아무조건없이 회원을 등록합니다. 만약 있을경우 idcheck() 함수로 추출된 id 리스트값과 입력된 id 를 통해 등록된 id인지 확인한후 가입을 합니다.\n",
    "- signin() 함수는 회원접속하는 함수로 idcheck() 함수와 입력된 id를 비교하여 존재하는 회원인지 확인하고 회원이 맞을경우 비밀번호를 확인하도록 합니다. 이때 info(idin) 함수를 가져와 입력한 비밀번호와 비교하는 조건문을 돌립니다.\n",
    "- 마지막 while 1: 함수를 돌려서 각각 디스플레이 번호에 맞게 signup(),signin()함수를 실행시킵니다."
   ]
  },
  {
   "cell_type": "code",
   "execution_count": null,
   "metadata": {
    "collapsed": true
   },
   "outputs": [],
   "source": []
  }
 ],
 "metadata": {
  "kernelspec": {
   "display_name": "Python 2",
   "language": "python",
   "name": "python2"
  },
  "language_info": {
   "codemirror_mode": {
    "name": "ipython",
    "version": 2
   },
   "file_extension": ".py",
   "mimetype": "text/x-python",
   "name": "python",
   "nbconvert_exporter": "python",
   "pygments_lexer": "ipython2",
   "version": "2.7.9"
  }
 },
 "nbformat": 4,
 "nbformat_minor": 0
}
