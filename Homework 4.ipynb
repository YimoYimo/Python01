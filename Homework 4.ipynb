{
 "cells": [
  {
   "cell_type": "markdown",
   "metadata": {},
   "source": [
    "# 파이썬 Assignment 4 #\n",
    "# 2013136147 임효균 #\n",
    "***"
   ]
  },
  {
   "cell_type": "markdown",
   "metadata": {},
   "source": [
    "#####[1번 문제]\n",
    "파일 s.txt 내의 다음 내용과 함께 아래 문제의 코드를 제시하시오\n",
    ">pig ham    \n",
    ">cat do    \n",
    ">ham bird    \n",
    ">dog pig\n",
    "\n",
    "1) 파일 s.txt을 읽어서 각 라인에 있는 첫 번째 단어(문자열) 자체들을 기준으로 라인별 정렬후 파일 s1.txt에 그 결과를 기록하는 코드를 작성하시오. 즉, 프로그램 수행 후 s1.txt에 있는 파일 내용은 다음과 같다.\n",
    "\n",
    ">cat dog   \n",
    ">dog pig   \n",
    ">ham bird   \n",
    ">pig ham "
   ]
  },
  {
   "cell_type": "code",
   "execution_count": 4,
   "metadata": {
    "collapsed": false
   },
   "outputs": [
    {
     "name": "stdout",
     "output_type": "stream",
     "text": [
      "cat dog\n",
      "dog pig\n",
      "ham bird\n",
      "pig ham\n",
      "\n"
     ]
    }
   ],
   "source": [
    "f = open('s.txt','r')\n",
    "s = f.readlines()\n",
    "s.sort()\n",
    "f.close()\n",
    "\n",
    "f=open('s1.txt','w')\n",
    "f.writelines(s)\n",
    "f.close()\n",
    "\n",
    "f=open('s1.txt','r')\n",
    "s=f.read()\n",
    "print s\n",
    "f.close()\n"
   ]
  },
  {
   "cell_type": "markdown",
   "metadata": {},
   "source": [
    "설명: s.txt를 읽어와 readlines() 함수를 사용하여 각 라인을 모두 읽어서 변수 s 에 리스트로 저장합니다 리스트의 sort() 함수를 사용하여 첫번째 단어를 기준으로 라인별 정렬후 s1.txt 을 쓰기로 열어서 리스트안에 있는 각 문자열을 s1.txt 에 연속해서 파일로 출력시킵니다. \n",
    "마지막으로 결과를 확인하기위해 s1.txt 파일을 읽기전용으로 열어 출력합니다.\n",
    "\n",
    "------"
   ]
  },
  {
   "cell_type": "markdown",
   "metadata": {},
   "source": [
    "2) 파일 s.txt을 읽어서 각 라인에 있는 두 번째 단어(문자열) 자체들을 기준으로 라인별 정렬후 파일 s2.txt에 그 결과를 기록하는 코드를 작성하시오. 즉, 프로그램 수행 후 s2.txt에 있는 파일 내용은 다음과 같다."
   ]
  },
  {
   "cell_type": "markdown",
   "metadata": {},
   "source": [
    ">ham bird  \n",
    ">cat dog  \n",
    ">pig ham  \n",
    ">dog pig  "
   ]
  },
  {
   "cell_type": "code",
   "execution_count": 15,
   "metadata": {
    "collapsed": false
   },
   "outputs": [
    {
     "name": "stdout",
     "output_type": "stream",
     "text": [
      "ham bird\n",
      "cat dog\n",
      "pig ham\n",
      "dog pig\n",
      "\n"
     ]
    }
   ],
   "source": [
    "def cmp_1(a1,a2):\n",
    "    return cmp(a1[4],a2[4])\n",
    "\n",
    "f=open('s.txt','r')\n",
    "s = f.readlines()\n",
    "s.sort(cmp_1)\n",
    "f.close()\n",
    "\n",
    "f=open('s2.txt','w')\n",
    "f.writelines(s)\n",
    "f.close()\n",
    "\n",
    "f=open('s2.txt','r')\n",
    "print f.read()\n",
    "f.close()"
   ]
  },
  {
   "cell_type": "markdown",
   "metadata": {},
   "source": [
    "설명: 리스트 원소의 4번째 인덱스를 기준으로 정렬을 하기위해 cmp_1 함수를 생성합니다 , s.txt 파일을 읽기전용으로 열어서 라인 단위로 읽어 리스트로 저장하고 sort() 함수 인자로 cmp_1 함수를 넣어주어 4번째 인덱스를 기준으로 정렬을 할수 있도록 변경합니다.\n",
    "정렬을 하고난후 리스트안의 문자열들을 s2.txt 파일에 출력시키고 다시 읽어서 출력을 시켜주어 정상적으로 파일이 저장되었다는것을 보여줍니다.\n",
    "\n",
    "-----"
   ]
  },
  {
   "cell_type": "markdown",
   "metadata": {},
   "source": [
    "3) 파일 s.txt을 읽어서 각 라인들에 있는 모든 단어들을 순차적으로 다시 나열하되 각 라인에 세 개의 단어들이 오도록 하여 s3.txt에 기록하는 코드를 작성하시오. 즉, 프로그램 수행 후 s3.txt에 있는 파일 내용은 다음과 같다.\n",
    "\n",
    ">pig ham cat  \n",
    ">dog ham bird  \n",
    ">dog pig  "
   ]
  },
  {
   "cell_type": "code",
   "execution_count": 25,
   "metadata": {
    "collapsed": false
   },
   "outputs": [
    {
     "name": "stdout",
     "output_type": "stream",
     "text": [
      "pig ham cat\n",
      "dog ham bird\n",
      "dog pig \n"
     ]
    }
   ],
   "source": [
    "f = open('s.txt','r')\n",
    "s=f.read()\n",
    "l=s.split()\n",
    "\n",
    "count = 0 \n",
    "line=[]\n",
    "text=\"\"\n",
    "\n",
    "for a in l:\n",
    "    if count == 2:\n",
    "        count=0\n",
    "        text=\"\"\n",
    "        line.append(a+'\\n')            \n",
    "    else:    \n",
    "        line.append(a+\" \")\n",
    "        count = count + 1\n",
    "\n",
    "f.close()\n",
    "\n",
    "f = open('s3.txt','w')\n",
    "f.writelines(line)\n",
    "f.close()\n",
    "\n",
    "f = open('s3.txt','r')\n",
    "print f.read()\n",
    "f.close()"
   ]
  },
  {
   "cell_type": "markdown",
   "metadata": {},
   "source": [
    "설명: s.txt를 읽어온 문자열들을 split()함수를 사용하여 공백을 기준으로 잘라 변수l에 리스트로 저장한다. for문을 사용하여 리스트안에 원소들을 하나씩 뽑아올때마다 count 변수의 수를 1씩 증가시키고 3번째 문자열 마다 개행문자 \\n 을 넣어주어 line 리스트에 append 시킨다.\n",
    "writelines() 함수를 사용하여 리스트안의 문자열들을 s3.txt 파일에 출력시킨다.\n",
    "\n",
    "-----"
   ]
  },
  {
   "cell_type": "markdown",
   "metadata": {},
   "source": [
    "#####[2번 문제]"
   ]
  },
  {
   "cell_type": "markdown",
   "metadata": {},
   "source": [
    "다음과 같은 조건들을 참고하여 회원 가입 및 로그인 프로그램을 작성하시오.  \n",
    "- 1) 프로그램 시작 후 다음과 같은 메시지가 출력되어 1, 2, 3 중 하나의 값을 입력 받도록 한다.\n",
    ">Welcome to Our Service  \n",
    ">\n",
    ">1.Sign Up  \n",
    ">2.Sign In  \n",
    ">3.Quit\n",
    "\n",
    "\n"
   ]
  },
  {
   "cell_type": "markdown",
   "metadata": {
    "collapsed": true
   },
   "source": [
    "- 2) 1을 선택하면 ID, Password, Name, School의 4가지 정보를 입력받아 파일에 저장하는 프로그램을 작성한다.\n",
    ">- 2-1) 입력된 내용은 access.txt 라는 이름의 텍스트 파일 내에 저장된다.\n",
    ">- 2-2) access.txt 파일의 각 라인에는 가입된 회원 각각의 정보가 \"[id]: [password], [name], [school]\" 형태로 저장된다.\n",
    ">- 2-3) 즉, 가입 회원이 10명이면 access.txt 파일 내에 라인 수도 정확히 10개이다.\n",
    ">- 2-4) 암호화 방식은 sha 모듈을 활용한다. sha 모듈 활용 방법은 본 문제의 마지막에 제시된 sha 활용 예를 참고한다.즉, access.txt 파일 내에 password 정보는 암호화 되어 저장되어야 한다.\n",
    ">- 2-5) 회원 정보를 입력 받을 때 id를 입력 받은 직후 access.txt를 확인하여 이미 존재하는 id가 입력되었다면 다음 메시지를 출력하고 id 정보를 다시 입력받는다.\n",
    ">>- Sorry, the entered ID is already used.\n",
    "\n",
    "- 3) 2를 선택하면 ID, Password의 2가지 정보를 입력받는 프로그램을 작성한다.\n",
    ">- 3-1) 입력된 ID 정보가 access.txt에 존재하지 않으면 다음과 같은 메시지를 출력하고 다시 입력받는다.\n",
    ">>- Sorry, you are not a registered member.\n",
    ">- 3-2) 입력된 ID가 올바르게 존재하지만 Password 정보가 access.txt 파일에 있는 정보와 불일치하면 다음과 같은 메시지를 출력하고 Password를 다시 입력받는다.\n",
    ">>- Sorry, the entered password is not correct.\n",
    "이 때에도 사용자가 입력한 Password 정보와 함께 sha 모듈이 활용되어야 한다.\n",
    ">- 3-3) 입력된 ID와 Password가 모두 올바르면 다음과 같은 메시지를 출력한다.\n",
    "Hello [name]!\n",
    "위 [name]에는 access.txt에 기록되어 있는 name 정보를 출력한다.\n",
    "\n",
    "- 4) 3을 선택하면 프로그램이 끝난다.\n",
    "\n",
    "[참고] sha 모듈 활용 예"
   ]
  },
  {
   "cell_type": "code",
   "execution_count": 42,
   "metadata": {
    "collapsed": false
   },
   "outputs": [
    {
     "name": "stdout",
     "output_type": "stream",
     "text": [
      "------------------------\n",
      "Welcome to Our Service\n",
      "\n",
      "\n",
      "1.Sign Up\n",
      "\n",
      "2.Sign in\n",
      "\n",
      "3.Quit\n",
      "\n",
      "------------------------\n",
      "1\n",
      "ID:python\n",
      "Password:123\n",
      "Name:hyokyun\n",
      "School:koreatech\n",
      "------------------------\n",
      "Welcome to Our Service\n",
      "\n",
      "\n",
      "1.Sign Up\n",
      "\n",
      "2.Sign in\n",
      "\n",
      "3.Quit\n",
      "\n",
      "------------------------\n",
      "2\n",
      "Input ID:python\n",
      "Input Password:123\n",
      "Hello hyokyun\n",
      "------------------------\n",
      "Welcome to Our Service\n",
      "\n",
      "\n",
      "1.Sign Up\n",
      "\n",
      "2.Sign in\n",
      "\n",
      "3.Quit\n",
      "\n",
      "------------------------\n",
      "2\n",
      "Input ID:python\n",
      "Input Password:321\n",
      "Sorry, the entered password is not correct.\n",
      "------------------------\n",
      "Welcome to Our Service\n",
      "\n",
      "\n",
      "1.Sign Up\n",
      "\n",
      "2.Sign in\n",
      "\n",
      "3.Quit\n",
      "\n",
      "------------------------\n",
      "2\n",
      "Input ID:ppyy\n",
      "Sorry, you are not a registered member.\n",
      "------------------------\n",
      "Welcome to Our Service\n",
      "\n",
      "\n",
      "1.Sign Up\n",
      "\n",
      "2.Sign in\n",
      "\n",
      "3.Quit\n",
      "\n",
      "------------------------\n",
      "3\n",
      "bye bye\n"
     ]
    }
   ],
   "source": [
    "import sha\n",
    "import os\n",
    "\n",
    "def display():\n",
    "    print('------------------------')\n",
    "    print(\"Welcome to Our Service\\n\")\n",
    "    print\n",
    "    print ('1.Sign Up\\n')\n",
    "    print ('2.Sign in\\n')\n",
    "    print ('3.Quit\\n')\n",
    "    print('------------------------')\n",
    "    return input()\n",
    "\n",
    "def idcheck():\n",
    "        f = open('access.txt','r')                    \n",
    "        line = f.readline()                         \n",
    "        l=[]\n",
    "        \n",
    "        while line:                                        ## id 검사를 하기위해 각라인을읽어와  ':' 로 split 하여 리스트로 저장한다. \n",
    "            l.extend(line.split(':'))   \n",
    "            line = f.readline()\n",
    "        f.close\n",
    "      \n",
    "        idchk = l[0::2]                                   ## 슬라이스를 사용하여 id만 뽑아낸다.\n",
    "        \n",
    "        \n",
    "        \n",
    "        return idchk\n",
    "    \n",
    "def info(idin):\n",
    "    \n",
    "        f = open('access.txt','r')                    \n",
    "        line = f.readline()                         \n",
    "        l=[]\n",
    "        \n",
    "        while line:                                        \n",
    "            l.extend(line.split(':'))   \n",
    "            line = f.readline()\n",
    "        f.close\n",
    "        idchk = l[0::2]     \n",
    "\n",
    "        l2=[]\n",
    "        f.seek(0)\n",
    "        l2 = f.read().split(':')\n",
    "        l2 = l2[1::]\n",
    "   \n",
    "        \n",
    "        return l2[idchk.index(idin)].split(',')[0],l2[idchk.index(idin)].split(',')[1],l2[idchk.index(idin)].split(',')[2]\n",
    "\n",
    "\n",
    "\n",
    "    \n",
    "\n",
    "\n",
    "def signup():\n",
    "    member = []\n",
    "    \n",
    "    \n",
    "    filelist = os.listdir('.')                             ## 디렉토리내에  access.txt가 있는지 검사한다. 만약 있을경우 \n",
    "    if 'access.txt' in filelist:                           ##  open('access.txt','r') 읽기전용으로 읽어온다.\n",
    "\n",
    "        idchk = idcheck()                                  \n",
    "               \n",
    "        while 1:\n",
    "            idt = raw_input('ID:')  \n",
    "            if idt not in idchk :                          ## access.txt 파일에 저장된 id와 입력한 id를 검사한다\n",
    "                member.append(idt+':')                                                ## 문자열 입력 raw_input()\n",
    "                member.append(sha.new(raw_input('Password:')).hexdigest() +',')       ## 암호 변환\n",
    "                member.append(raw_input('Name:')+',')\n",
    "                member.append(raw_input('School:')+'\\n')\n",
    "                break\n",
    "            else:\n",
    "                print('Sorry, the entered ID is already used.')\n",
    "                \n",
    "    \n",
    "    \n",
    "    else:                                                                    ##디렉토리내에 access.txt 파일이 없을경우 그냥 생성\n",
    "        member.append(raw_input('ID:')+':')                                  ## 문자열 입력 raw_input()\n",
    "        member.append(sha.new(raw_input('Password:')).hexdigest() +',')      ## 암호 변환\n",
    "        member.append(raw_input('Name:')+',')\n",
    "        member.append(raw_input('School:')+'\\n')\n",
    "     \n",
    "        \n",
    "    f = open('access.txt','a')\n",
    "    f.writelines(member)\n",
    "    f.close\n",
    "   \n",
    "\n",
    "def signin():\n",
    "    \n",
    "    idchk=idcheck()\n",
    "    \n",
    "    idin = raw_input(\"Input ID:\")\n",
    "    \n",
    "    while 1:\n",
    "        if idin not in idchk :\n",
    "            print('Sorry, you are not a registered member.')\n",
    "            break\n",
    "            \n",
    "        pwdin = sha.new(raw_input(\"Input Password:\")).hexdigest()\n",
    "      \n",
    "        if info(idin)[0] == pwdin:\n",
    "            print('Hello %s' % info(idin)[1])\n",
    "            break\n",
    "        else:\n",
    "            print('Sorry, the entered password is not correct.')\n",
    "            break\n",
    "            \n",
    "    \n",
    "    \n",
    "while 1:\n",
    "    \n",
    "    num = display()\n",
    "\n",
    "    if num == 1:\n",
    "        signup()\n",
    "    elif num==2:\n",
    "        signin()\n",
    "    elif num==3:\n",
    "        print('bye bye')\n",
    "        break\n",
    "    \n"
   ]
  },
  {
   "cell_type": "markdown",
   "metadata": {
    "collapsed": false
   },
   "source": [
    "설명 \n",
    "- dispay() 함수는 메인화면을 출력해주며 숫자를 입력해 리턴해줍니다.  \n",
    "- idcheck() 함수는 access.txt 에서 파일을 읽어 readline()함수를 이용하여 개행단위로 문자열을 읽고 split(':')와 슬라이스를 이용하여 id만을 추출해 리스트에 저장시킵니다. id만 저장된 이 리스트를 리턴해 줍니다.\n",
    "- infor(idin) 함수는 아이디를 인자로 받아 password 와 name , school 정보를 얻을수 있으며 idcheck() 에서 썻던 기능을 그대로 사용하여 id를 추출한 리스트를 만들고 id가 저장된 리스트의 인덱스번호와 스플릿 슬라이싱을 사용하여 비밀번호,이름,학교명을 튜플로 리턴합니다.\n",
    "- signup() 함수는 회원가입기능이 있는 함수로 가잠언저 access.txt 파일이 폴더내에 존재하는지 확인합니다 없을경우 아무조건없이 회원을 등록합니다. 만약 있을경우 idcheck() 함수로 추출된 id 리스트값과 입력된 id 를 통해 등록된 id인지 확인한후 가입을 합니다.\n",
    "- signin() 함수는 회원접속하는 함수로 idcheck() 함수와 입력된 id를 비교하여 존재하는 회원인지 확인하고 회원이 맞을경우 비밀번호를 확인하도록 합니다. 이때 info(idin) 함수를 가져와 입력한 비밀번호와 비교하는 조건문을 돌립니다.\n",
    "- 마지막 while 1: 함수를 돌려서 각각 디스플레이 번호에 맞게 signup(),signin()함수를 실행시킵니다.\n",
    "\n",
    "----"
   ]
  },
  {
   "cell_type": "markdown",
   "metadata": {
    "collapsed": true
   },
   "source": [
    "#####[3번 문제]   \n",
    "\n",
    "range() 함수와 유사한 frange() 함수를 다음 조건을 참고하여 만드시오.\n",
    "\n",
    "1) frange()의 인자 구성은 다음과 같이 range와 동일하지만 각 인수들은 음수를 받지 않는다고 가정한다.  \n",
    ">range(stop)  \n",
    ">range(start, stop[, step])  \n",
    "\n",
    "2) frange() 함수의 인자에 대한 기본 시작(start) 값은 0.0이고, 기본 단계(step) 값은 0.1이다.  \n",
    "3) frange 사용 예  \n",
    ">- 3-1) frange(0.5)  \n",
    ">[0.0, 0.1, 0.2, 0.3, 0.4]  \n",
    ">- 3-2) frange(1.0, 2.0)  \n",
    ">[1.0, 1.1, 1.2, 1.3, 1.4, 1.5, 1.6, 1.7, 1.8, 1.9]  \n",
    ">- 3-3) frange(2.2, 4.0, 0.5)  \n",
    ">[2.2, 2.7, 3.2, 3.7]  "
   ]
  },
  {
   "cell_type": "code",
   "execution_count": 4,
   "metadata": {
    "collapsed": false
   },
   "outputs": [
    {
     "name": "stdout",
     "output_type": "stream",
     "text": [
      "[0.0, 0.1, 0.2, 0.3, 0.4, 0.5]\n",
      "[1.0, 1.1, 1.2, 1.3, 1.4, 1.5, 1.6, 1.7, 1.8, 1.9]\n",
      "[2.2, 2.7, 3.2, 3.7]\n"
     ]
    }
   ],
   "source": [
    "\n",
    "def frange(start , end=0.0 , step=0.1):\n",
    "    if end == 0.0:\n",
    "        end = start \n",
    "        start = 0.0\n",
    "    l = []\n",
    "     \n",
    "    while start<=end:\n",
    "        l.append(round(start,2))\n",
    "        start = start + step \n",
    "        \n",
    "    \n",
    "    return l\n",
    "\n",
    "print frange(0.5)\n",
    "print frange(1.0,2.0)\n",
    "print frange(2.2,4.0,0.5)\n",
    "\n",
    "\n"
   ]
  },
  {
   "cell_type": "markdown",
   "metadata": {},
   "source": [
    "설명: 인자로 frange(start,end = 0.0 , step = 0.1) 을 주고 end 가 0.0 일경우 인자가 한개만 입력된경우 즉 range(10)의 사용법으로 보아 end 값만 입력된것이기때문에 if end == 0.0 일경우 end와 start 값을변경해주고 start에는 0.0 기본값을 넣어줍니다.  이렇게 한이유는 기본값이 정해진 인자가 기본값이 정해지지 않은 인자 앞으로 올수 없기 때문입니다.   \n",
    "그리고 while 반복문의 조건으로 start 값이 end 값과 같아질때까지로 주고 리스 l에 값을 넣어주고 step 의 값만큼 start에 더해 다시 start 변수에 저장 합니다. round 함수를 사용하지 않을경우 소수점이 0.30000002 이와 같이 출력되는 이상현상이 발생해 round 함수로 2째짜리에서 반올림 하여 집어넣어줬습니다.\n",
    "\n",
    "______\n",
    "\n"
   ]
  },
  {
   "cell_type": "markdown",
   "metadata": {
    "collapsed": true
   },
   "source": [
    "\n",
    "#####[4번 문제]\n",
    "\n",
    "가변인수를 받는 함수 sum()을 다음과 같은 조건을 참고하여 구현하시오\n",
    "\n",
    ">sum() 사용 예   \n",
    ">sum()  \n",
    ">0  \n",
    ">sum(1, 2)  \n",
    ">3  \n",
    ">sum(1, 2, 3, 4, 5)  \n",
    ">15  \n",
    ">sum(1, 5, 7, 2, -10)  \n",
    ">5  \n",
    "\n",
    "\n"
   ]
  },
  {
   "cell_type": "code",
   "execution_count": 9,
   "metadata": {
    "collapsed": false
   },
   "outputs": [
    {
     "name": "stdout",
     "output_type": "stream",
     "text": [
      "0\n",
      "3\n",
      "15\n",
      "5\n"
     ]
    }
   ],
   "source": [
    "def sum(*a):\n",
    "    sum = 0\n",
    "    \n",
    "    if a!=None:   \n",
    "        for b in a:\n",
    "            sum=sum+b\n",
    "    \n",
    "    return sum\n",
    "\n",
    "print sum()\n",
    "print sum(1,2)\n",
    "print sum(1,2,3,4,5)\n",
    "print sum(1,5,7,2,-10)"
   ]
  },
  {
   "cell_type": "markdown",
   "metadata": {},
   "source": [
    "설명: 가변인수 a를 받아 옵니다 만약 a가 None 이 아니라면 인수값이 드러온것이므로 for 문을 돌려 합을 계산하여 리턴시켜줍니다.\n",
    "\n",
    "----"
   ]
  },
  {
   "cell_type": "markdown",
   "metadata": {},
   "source": [
    "#####[5번 문제]  \n",
    "\n",
    "여러 단어로 이루어진 문자열을 입력받아 각 단어의 첫글자로 이루어진 단어를 대문자로 출력하는 myinitial() 함수를 다음 조건을 참고하여 작성하시오.\n",
    "\n",
    ">1) 다음에 제시되는 함수들을 모두 이용해야 한다.  \n",
    ">split  \n",
    ">map  \n",
    ">join  \n",
    "\n",
    ">2) myinitial() 함수 사용 예  \n",
    ">myinitial(\"as soon as possible\")  \n",
    ">ASAP  "
   ]
  },
  {
   "cell_type": "code",
   "execution_count": 34,
   "metadata": {
    "collapsed": false
   },
   "outputs": [
    {
     "name": "stdout",
     "output_type": "stream",
     "text": [
      "ASAP\n"
     ]
    }
   ],
   "source": [
    "def myinitial(s):\n",
    "    \n",
    "    return ''.join(map(lambda x:x[0].upper(),s.split()))\n",
    "\n",
    "print myinitial(\"as soon as possible\")\n",
    "    "
   ]
  },
  {
   "cell_type": "markdown",
   "metadata": {},
   "source": [
    "설명:map 함수의 사용법은 map(함수,시퀀스 자료형) 입니다. 받은 문자열을 공백기준으로 자른 문자열 리스트를 2번째 인자로 넣어주고 첫번째 인자에는 받은 시퀀스자료형의 첫번째 인덱스를 upper함수를 사용하여 대문자로 만들어 문자열안 각 단어들의 첫번째 값들을 리스트로 리턴해줍니다 그 리스트를 다시 조인시켜서 ASAP을 출력합니다.\n",
    "\n",
    "------"
   ]
  },
  {
   "cell_type": "markdown",
   "metadata": {},
   "source": [
    "\n",
    "#####[6번 문제]  \n",
    "\n",
    "음이 아닌 정수 n를 입력받으면 n! (factorial)을 계산하는 myfact() 함수를 재귀적 함수로 구현하시오.\n",
    "\n",
    "[옵션] 참을 수 있는 정도 만큼의 수행시간을 직접 기다려보면서 n을 늘려보도록 합시다.\n",
    "\n"
   ]
  },
  {
   "cell_type": "code",
   "execution_count": 44,
   "metadata": {
    "collapsed": false
   },
   "outputs": [
    {
     "name": "stdout",
     "output_type": "stream",
     "text": [
      "0!: 1\n",
      "1!: 1\n",
      "2!: 2\n",
      "3!: 6\n",
      "4!: 24\n"
     ]
    }
   ],
   "source": [
    "def myfact(n):\n",
    "    if n <= 1:\n",
    "        return 1\n",
    "    else:\n",
    "        return n * myfact(n-1)\n",
    "    \n",
    "    \n",
    "print '0!: %d' % myfact(0)    \n",
    "print '1!: %d' % myfact(1)    \n",
    "print '2!: %d' % myfact(2)    \n",
    "print '3!: %d' % myfact(3)        \n",
    "print '4!: %d' % myfact(4)    \n"
   ]
  },
  {
   "cell_type": "markdown",
   "metadata": {},
   "source": [
    "설명: 0! 은 1,  1! 은 1 이기때문에 if문으로 이 두가지 경우의 수를 리턴값 1로하고 아닐경우 n* myfact(n-1)로 리턴하면서 인자값이 하나씩 감소되면서 재귀함수가 되도록 구현한다. \n",
    "\n",
    "----"
   ]
  },
  {
   "cell_type": "markdown",
   "metadata": {},
   "source": [
    "#####[7번 문제]  \n",
    "\n",
    "(서술형) import string 과 from string import * 의 차이점을 설명하시오."
   ]
  },
  {
   "cell_type": "markdown",
   "metadata": {},
   "source": [
    "import string은 모듈을 import 하는 가장 기본적인 형태이다. 만약 스트링안의 upper라는 함수를 사용하려면 string.upper(문자열이 들어간 변수) 와같이 써줘야 한다. 즉 upper 함수앞에 import 시킨 string. 을 붙여여야만 함수가 사용가능하지만   \n",
    "from string import * 의 경우는 string. 을 붙여주지않아도 upper(문자열이 들어간변수) 와같이 코드를 작성해도 사용이 가능해진다.\n",
    "\n",
    "-----"
   ]
  },
  {
   "cell_type": "markdown",
   "metadata": {
    "collapsed": false
   },
   "source": [
    "#####[8번 문제]  \n",
    "\n",
    "프로젝트 오일러10"
   ]
  },
  {
   "cell_type": "code",
   "execution_count": 23,
   "metadata": {
    "collapsed": false
   },
   "outputs": [
    {
     "name": "stdout",
     "output_type": "stream",
     "text": [
      "1000 까지의 소수의 합은 76127 입니다.\n",
      "\n",
      "소수목록\n",
      "[2, 3, 5, 7, 11, 13, 17, 19, 23, 29, 31, 37, 41, 43, 47, 53, 59, 61, 67, 71, 73, 79, 83, 89, 97, 101, 103, 107, 109, 113, 127, 131, 137, 139, 149, 151, 157, 163, 167, 173, 179, 181, 191, 193, 197, 199, 211, 223, 227, 229, 233, 239, 241, 251, 257, 263, 269, 271, 277, 281, 283, 293, 307, 311, 313, 317, 331, 337, 347, 349, 353, 359, 367, 373, 379, 383, 389, 397, 401, 409, 419, 421, 431, 433, 439, 443, 449, 457, 461, 463, 467, 479, 487, 491, 499, 503, 509, 521, 523, 541, 547, 557, 563, 569, 571, 577, 587, 593, 599, 601, 607, 613, 617, 619, 631, 641, 643, 647, 653, 659, 661, 673, 677, 683, 691, 701, 709, 719, 727, 733, 739, 743, 751, 757, 761, 769, 773, 787, 797, 809, 811, 821, 823, 827, 829, 839, 853, 857, 859, 863, 877, 881, 883, 887, 907, 911, 919, 929, 937, 941, 947, 953, 967, 971, 977, 983, 991, 997]\n"
     ]
    }
   ],
   "source": [
    "def pnumber(n):\n",
    "    \n",
    "    prime = []\n",
    "\n",
    "    for i in range(2,n+1):\n",
    "        for j in range(2,i+1):\n",
    "            if i%j==0 :\n",
    "                if i==j : \n",
    "                    prime.append(i)\n",
    "                else:\n",
    "                     break\n",
    "           \n",
    "    return prime\n",
    "\n",
    "def sum(n):\n",
    "    s=0\n",
    "    for a in n:\n",
    "        s=s+a\n",
    "        \n",
    "    return s\n",
    "\n",
    "    \n",
    "\n",
    "a=1000\n",
    "print \"%d 까지의 소수의 합은 %d 입니다.\" % (a , \n",
    "sum(pnumber(a)))\n",
    "print\n",
    "print \"소수목록\"\n",
    "print pnumber(a)   "
   ]
  },
  {
   "cell_type": "markdown",
   "metadata": {
    "collapsed": true
   },
   "source": [
    "설명: 1은 소수가 아니므로 2부터 입력받은 숫자까지 for문을 1차적으로 돌리고 상위 for문의 값을 최대범위로 잡은 2차 for문을 하나 더 돌려 2개의 값을 비교해가면서 소수를 구합니다. 구해진소수를 sum 함수로 가져와서 소수의 합을 구합니다.\n",
    "\n",
    "----"
   ]
  },
  {
   "cell_type": "markdown",
   "metadata": {},
   "source": [
    "#####[9번 문제]\n",
    "\n",
    "프로젝트 오일러11"
   ]
  },
  {
   "cell_type": "code",
   "execution_count": 33,
   "metadata": {
    "collapsed": false
   },
   "outputs": [
    {
     "name": "stdout",
     "output_type": "stream",
     "text": [
      "70600674\n"
     ]
    }
   ],
   "source": [
    "s = \"\"\"08 02 22 97 38 15 00 40 00 75 04 05 07 78 52 12 50 77 91 08\n",
    "49 49 99 40 17 81 18 57 60 87 17 40 98 43 69 48 04 56 62 00\n",
    "81 49 31 73 55 79 14 29 93 71 40 67 53 88 30 03 49 13 36 65\n",
    "52 70 95 23 04 60 11 42 69 24 68 56 01 32 56 71 37 02 36 91\n",
    "22 31 16 71 51 67 63 89 41 92 36 54 22 40 40 28 66 33 13 80\n",
    "24 47 32 60 99 03 45 02 44 75 33 53 78 36 84 20 35 17 12 50\n",
    "32 98 81 28 64 23 67 10 26 38 40 67 59 54 70 66 18 38 64 70\n",
    "67 26 20 68 02 62 12 20 95 63 94 39 63 08 40 91 66 49 94 21\n",
    "24 55 58 05 66 73 99 26 97 17 78 78 96 83 14 88 34 89 63 72\n",
    "21 36 23 09 75 00 76 44 20 45 35 14 00 61 33 97 34 31 33 95\n",
    "78 17 53 28 22 75 31 67 15 94 03 80 04 62 16 14 09 53 56 92\n",
    "16 39 05 42 96 35 31 47 55 58 88 24 00 17 54 24 36 29 85 57\n",
    "86 56 00 48 35 71 89 07 05 44 44 37 44 60 21 58 51 54 17 58\n",
    "19 80 81 68 05 94 47 69 28 73 92 13 86 52 17 77 04 89 55 40\n",
    "04 52 08 83 97 35 99 16 07 97 57 32 16 26 26 79 33 27 98 66\n",
    "88 36 68 87 57 62 20 72 03 46 33 67 46 55 12 32 63 93 53 69\n",
    "04 42 16 73 38 25 39 11 24 94 72 18 08 46 29 32 40 62 76 36\n",
    "20 69 36 41 72 30 23 88 34 62 99 69 82 67 59 85 74 04 36 16\n",
    "20 73 35 29 78 31 90 01 74 31 49 71 48 86 81 16 23 57 05 54\n",
    "01 70 54 71 83 51 54 69 16 92 33 48 61 43 52 01 89 19 67 48\"\"\"\n",
    "\n",
    "def h(a):                       ## 20 x 20 문자열 숫자를  2차원 리스트로 만드는 함수\n",
    "    num = a.split()\n",
    "\n",
    "    count = 0\n",
    "    line = []\n",
    "    horizon = []\n",
    "\n",
    "    for a in num:\n",
    "    \n",
    "        line.append(int(a))\n",
    "        count = count + 1\n",
    "    \n",
    "        if count == 20:\n",
    "            count = 0\n",
    "        \n",
    "            horizon.append(list(line))\n",
    "            line[:]=\"\"\n",
    " \n",
    "    return horizon\n",
    "\n",
    "\n",
    "\n",
    "matrix = h(s)\n",
    "     \n",
    "\n",
    "\n",
    "\n",
    "hap=[]\n",
    "for i in range(20):\n",
    "    for j in range(20):\n",
    "     \n",
    "     if (i+3) < 20 and (j+3)< 20 :   \n",
    "        hap.append(matrix[i][j] * matrix[i+1][j+1]* matrix[i+2][j+2] * matrix[i+3][j+3])    ## 오른 쪽 아래 대각선\n",
    "     if (i+3) < 20 and j >= 3 :\n",
    "       hap.append(matrix[i][j] * matrix[i+1][j-1]* matrix[i+2][j-2] * matrix[i+3][j-3])     ## 오른쪽 위 대각선 \n",
    "     if (j+3) < 20  :\n",
    "       hap.append(matrix[i][j] * matrix[i][j+1]* matrix[i][j+2] * matrix[i][j+3])           ## 수평\n",
    "     if (i+3) < 20  :\n",
    "        hap.append(matrix[i][j] * matrix[i+1][j]* matrix[i+3][j] * matrix[i+3][j])          ## 수직\n",
    "\n",
    "print max(hap)\n",
    "\n"
   ]
  },
  {
   "cell_type": "markdown",
   "metadata": {},
   "source": [
    "설명  \n",
    "\n",
    "-  s에 문자열로 20 x 20 숫자를 저장합니다. def h(a) 함수는 받아온 문자열 숫자들을 2차리스트로 입력하기 위한 함수로  1차적으로 공백단위로 잘라 리스트에 저장시키고 , for문이 이 리스트안에 저장된 숫자들 만큼 돌면서 line 단위로 리스트에 입력하고 count 변수를 추가하여 count가 20이 되면 다시 새로운 리스트에 리스트 째로 넣어주어 2차리스트를 만듭니다.\n",
    "\n",
    "-  그렇게 만들어진 2차리스트 20x20행렬 숫자들을 matrix 라는 변수명에 저장시키고 2중 for문 즉 i는 행 j 는 열 을 받아와야하기때문에 범위를 range(20)  0~ 19 인덱스를 참조하기 위해 돌립니다.  \n",
    "\n",
    "- 오른쪽 아래로 내려가는 대각선의 경우 if문에 i , j +3 씩 더하여(4개의 값을 더하므로) 인덱스19까지 즉 20 이 되지않게 조건을 겁니다.(인덱스의 범위를 넘으면 에러가 나기때문에)  중심숫자에서 행 열에 +1 씩 해주어 대각선으로 내려가면서 값을 더하도록 합니다. \n",
    "\n",
    "- 오른쪽 위 대각선의 경우 행의 조건은 오른쪽 아래 대각선과 같이 +3 해주어 20이 되지 않도록 조건을걸고 열은 3이상이 되도록 합니다. 오른 쪽 위로 올라가는 대각선이므로 j 열의 값에 -1씩 해주도록 합니다.\n",
    "\n",
    "- 수평은 열의 값이 인덱스를 넘치는지만 보면 되므로  열+3 이 20이 되지않도록 조건문을 걸고  열에 +1 씩 해주어 합을 구합니다.\n",
    "\n",
    "- 수직은 행의 값이 인덱스를 넘치는지만 보면 되므로  행+3 이 20이 되지않도록 조건문을 걸고  행에 +1 씩 해주어 합을 구합니다.\n",
    "\n",
    "- max 함수로 hap 리스트에 저장된 값중 가장 큰 값을 구합니다.\n",
    "\n",
    "-----"
   ]
  },
  {
   "cell_type": "markdown",
   "metadata": {},
   "source": [
    "#####[10번 문제]\n",
    "\n",
    "프로젝트 오일러 문제 12"
   ]
  },
  {
   "cell_type": "code",
   "execution_count": 36,
   "metadata": {
    "collapsed": false
   },
   "outputs": [
    {
     "name": "stdout",
     "output_type": "stream",
     "text": [
      "76576500\n"
     ]
    }
   ],
   "source": [
    "def N(n) :\n",
    "\n",
    "    if(n%2 == 0) : n/=2\n",
    "    if(n==1) : return 1\n",
    "\n",
    "    m=1;\n",
    "    for i in range(2,n+1):\n",
    "        count = 0\n",
    "        while (n%i == 0 ) :\n",
    "            n /= i\n",
    "            count += 1\n",
    "\n",
    "        m *= (count +1)\n",
    "        if(n == 1) :\n",
    "            return m\n",
    "\n",
    "def divisor(n) :\n",
    "    prev=1\n",
    "    i=2\n",
    "\n",
    "    while True :\n",
    "        sam = i*(i+1)/2\n",
    "        cur = N(i+1)\n",
    "        if(prev * cur > n) :\n",
    "            print sam\n",
    "            break\n",
    "        else:\n",
    "            i = i+1\n",
    "            prev =cur\n",
    "\n",
    "\n",
    "divisor(500)\n",
    "\n"
   ]
  },
  {
   "cell_type": "markdown",
   "metadata": {},
   "source": [
    "설명:  \n",
    " \n",
    "n번쨰 삼각수는 n(n+1)/2 이고 n/2,n+1인 서로소이므로 삼각수 약수의 갯수는  =  n/2 약수의 갯수 * n+1의 약수의 갯수 이다\n",
    "n 약수의 갯수 * (n+1)/2의 약수의 갯수 (n, n+1중 짝수는 2로 나누수의 약수의 갯수를 곱해줌)\n",
    "\n",
    "----"
   ]
  },
  {
   "cell_type": "markdown",
   "metadata": {},
   "source": [
    "#####[11번 문제]\n",
    "\n",
    "프로젝트 오일러 문제 13"
   ]
  },
  {
   "cell_type": "code",
   "execution_count": 53,
   "metadata": {
    "collapsed": false
   },
   "outputs": [
    {
     "name": "stdout",
     "output_type": "stream",
     "text": [
      "5537376230\n"
     ]
    }
   ],
   "source": [
    "s = \"\"\"37107287533902102798797998220837590246510135740250\n",
    "46376937677490009712648124896970078050417018260538\n",
    "74324986199524741059474233309513058123726617309629\n",
    "91942213363574161572522430563301811072406154908250\n",
    "23067588207539346171171980310421047513778063246676\n",
    "89261670696623633820136378418383684178734361726757\n",
    "28112879812849979408065481931592621691275889832738\n",
    "44274228917432520321923589422876796487670272189318\n",
    "47451445736001306439091167216856844588711603153276\n",
    "70386486105843025439939619828917593665686757934951\n",
    "62176457141856560629502157223196586755079324193331\n",
    "64906352462741904929101432445813822663347944758178\n",
    "92575867718337217661963751590579239728245598838407\n",
    "58203565325359399008402633568948830189458628227828\n",
    "80181199384826282014278194139940567587151170094390\n",
    "35398664372827112653829987240784473053190104293586\n",
    "86515506006295864861532075273371959191420517255829\n",
    "71693888707715466499115593487603532921714970056938\n",
    "54370070576826684624621495650076471787294438377604\n",
    "53282654108756828443191190634694037855217779295145\n",
    "36123272525000296071075082563815656710885258350721\n",
    "45876576172410976447339110607218265236877223636045\n",
    "17423706905851860660448207621209813287860733969412\n",
    "81142660418086830619328460811191061556940512689692\n",
    "51934325451728388641918047049293215058642563049483\n",
    "62467221648435076201727918039944693004732956340691\n",
    "15732444386908125794514089057706229429197107928209\n",
    "55037687525678773091862540744969844508330393682126\n",
    "18336384825330154686196124348767681297534375946515\n",
    "80386287592878490201521685554828717201219257766954\n",
    "78182833757993103614740356856449095527097864797581\n",
    "16726320100436897842553539920931837441497806860984\n",
    "48403098129077791799088218795327364475675590848030\n",
    "87086987551392711854517078544161852424320693150332\n",
    "59959406895756536782107074926966537676326235447210\n",
    "69793950679652694742597709739166693763042633987085\n",
    "41052684708299085211399427365734116182760315001271\n",
    "65378607361501080857009149939512557028198746004375\n",
    "35829035317434717326932123578154982629742552737307\n",
    "94953759765105305946966067683156574377167401875275\n",
    "88902802571733229619176668713819931811048770190271\n",
    "25267680276078003013678680992525463401061632866526\n",
    "36270218540497705585629946580636237993140746255962\n",
    "24074486908231174977792365466257246923322810917141\n",
    "91430288197103288597806669760892938638285025333403\n",
    "34413065578016127815921815005561868836468420090470\n",
    "23053081172816430487623791969842487255036638784583\n",
    "11487696932154902810424020138335124462181441773470\n",
    "63783299490636259666498587618221225225512486764533\n",
    "67720186971698544312419572409913959008952310058822\n",
    "95548255300263520781532296796249481641953868218774\n",
    "76085327132285723110424803456124867697064507995236\n",
    "37774242535411291684276865538926205024910326572967\n",
    "23701913275725675285653248258265463092207058596522\n",
    "29798860272258331913126375147341994889534765745501\n",
    "18495701454879288984856827726077713721403798879715\n",
    "38298203783031473527721580348144513491373226651381\n",
    "34829543829199918180278916522431027392251122869539\n",
    "40957953066405232632538044100059654939159879593635\n",
    "29746152185502371307642255121183693803580388584903\n",
    "41698116222072977186158236678424689157993532961922\n",
    "62467957194401269043877107275048102390895523597457\n",
    "23189706772547915061505504953922979530901129967519\n",
    "86188088225875314529584099251203829009407770775672\n",
    "11306739708304724483816533873502340845647058077308\n",
    "82959174767140363198008187129011875491310547126581\n",
    "97623331044818386269515456334926366572897563400500\n",
    "42846280183517070527831839425882145521227251250327\n",
    "55121603546981200581762165212827652751691296897789\n",
    "32238195734329339946437501907836945765883352399886\n",
    "75506164965184775180738168837861091527357929701337\n",
    "62177842752192623401942399639168044983993173312731\n",
    "32924185707147349566916674687634660915035914677504\n",
    "99518671430235219628894890102423325116913619626622\n",
    "73267460800591547471830798392868535206946944540724\n",
    "76841822524674417161514036427982273348055556214818\n",
    "97142617910342598647204516893989422179826088076852\n",
    "87783646182799346313767754307809363333018982642090\n",
    "10848802521674670883215120185883543223812876952786\n",
    "71329612474782464538636993009049310363619763878039\n",
    "62184073572399794223406235393808339651327408011116\n",
    "66627891981488087797941876876144230030984490851411\n",
    "60661826293682836764744779239180335110989069790714\n",
    "85786944089552990653640447425576083659976645795096\n",
    "66024396409905389607120198219976047599490197230297\n",
    "64913982680032973156037120041377903785566085089252\n",
    "16730939319872750275468906903707539413042652315011\n",
    "94809377245048795150954100921645863754710598436791\n",
    "78639167021187492431995700641917969777599028300699\n",
    "15368713711936614952811305876380278410754449733078\n",
    "40789923115535562561142322423255033685442488917353\n",
    "44889911501440648020369068063960672322193204149535\n",
    "41503128880339536053299340368006977710650566631954\n",
    "81234880673210146739058568557934581403627822703280\n",
    "82616570773948327592232845941706525094512325230608\n",
    "22918802058777319719839450180888072429661980811197\n",
    "77158542502016545090413245809786882778948721859617\n",
    "72107838435069186155435662884062257473692284509516\n",
    "20849603980134001723930671666823555245252804609722\n",
    "53503534226472524250874054075591789781264330331690\"\"\"\n",
    "\n",
    "l = s.splitlines()\n",
    "sum=0\n",
    "for a in l:\n",
    "    sum=sum+int(a)\n",
    "print str(sum)[0:10]\n",
    "\n",
    "\n",
    "\n",
    "\n",
    "##print str(sum([int(a) for a in s.splitlines()]))[0:10]                이클립스는 되는데 노트북에서 에러남 ...\n"
   ]
  },
  {
   "cell_type": "markdown",
   "metadata": {},
   "source": [
    "설명: 라인단위로 숫자를 잘라서(50자리씩) for문을 돌려 int형으로 바꿔준후 더합니다 더한값을 다시 문자열 형으로 바꾸고 슬라이스로 앞 10자리를 구해줍니다.\n",
    "\n",
    "아래 한줄 소스가 있는데 이상하게 이클립스에서 실행이되는데 여기서 오류가 납니다.\n",
    "\n",
    "----\n"
   ]
  },
  {
   "cell_type": "markdown",
   "metadata": {},
   "source": [
    "#####[12번 문제]\n",
    "\n",
    "프로젝트 오일러 문제 14"
   ]
  },
  {
   "cell_type": "code",
   "execution_count": 54,
   "metadata": {
    "collapsed": false
   },
   "outputs": [
    {
     "name": "stdout",
     "output_type": "stream",
     "text": [
      "10\n",
      "837799\n"
     ]
    }
   ],
   "source": [
    "def Collatz(n):\n",
    "    count=1\n",
    "    while n!=1:\n",
    "        if n % 2 ==0:\n",
    "            n=n/2\n",
    "            count+=1\n",
    "        else:\n",
    "            n=3*n+1\n",
    "            count+=1\n",
    "            \n",
    "    return count\n",
    "\n",
    "print Collatz(13)\n",
    "\n",
    "\n",
    "l=[Collatz(a) for a in range(1,1000000)]\n",
    "print l.index(max(l))+1   \n",
    "            \n",
    "            "
   ]
  },
  {
   "cell_type": "markdown",
   "metadata": {},
   "source": [
    "설명: \n",
    "\n",
    "Collatz(n)  함수는    n=n/2 , n=3 * n+1  두가지 식을 수행하기위한 함수로 짝수일경우 전자 홀수일경우 후자가 실행된다. count 변수를 추가하여 몇번 수행되었는지 횟수를 기억하도록 한다.\n",
    "1~1000000 까지의 숫자 범위이므로 리스트 내포를 사용하여 Collatz 함수에 값을 넘겨준다 l 리스트에는 숫자별 수행횟수들이 저장되고 리스트의 index +1 값이 그 숫자이므로 최대값의 인덱스+1 을 출력하도록한다.\n",
    "\n",
    "----"
   ]
  },
  {
   "cell_type": "markdown",
   "metadata": {},
   "source": [
    "#####[13번 문제]\n",
    "\n",
    "프로젝트 오일러 문제 15"
   ]
  },
  {
   "cell_type": "code",
   "execution_count": 55,
   "metadata": {
    "collapsed": false
   },
   "outputs": [
    {
     "name": "stdout",
     "output_type": "stream",
     "text": [
      "137846528820\n"
     ]
    }
   ],
   "source": [
    "def fac(n):\n",
    "    if n <=1:\n",
    "        return 1 \n",
    "    else:\n",
    "        return n * fac(n-1)\n",
    "    \n",
    "    \n",
    "print fac(40)/(fac(20)*fac(20))                     ## 길찾기 경우의 수 공식 행=a , 열=b 일때   (a+b)! / (a! * b!)\n",
    "\n"
   ]
  },
  {
   "cell_type": "markdown",
   "metadata": {},
   "source": [
    "설명: 재귀함수를 이용한 팩토리얼 함수 fac(n) 을 만듭니다.  격자 길찾기 경우의수 공식은  행=a , 열=b 일때   (a + b)! / (a! * b!) 입니다\n",
    "팩토리얼 함수를 이용하여  fac(40) / (fac(20) * fac(20)) 을 출력해 값을 얻었습니다.\n",
    "\n",
    "---"
   ]
  },
  {
   "cell_type": "code",
   "execution_count": null,
   "metadata": {
    "collapsed": true
   },
   "outputs": [],
   "source": []
  }
 ],
 "metadata": {
  "kernelspec": {
   "display_name": "Python 2",
   "language": "python",
   "name": "python2"
  },
  "language_info": {
   "codemirror_mode": {
    "name": "ipython",
    "version": 2
   },
   "file_extension": ".py",
   "mimetype": "text/x-python",
   "name": "python",
   "nbconvert_exporter": "python",
   "pygments_lexer": "ipython2",
   "version": "2.7.9"
  }
 },
 "nbformat": 4,
 "nbformat_minor": 0
}
