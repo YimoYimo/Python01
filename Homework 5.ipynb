{
 "cells": [
  {
   "cell_type": "markdown",
   "metadata": {},
   "source": [
    "#####[1번 문제]  \n",
    "\n",
    "클래스와 모듈의 공통점과 차이점에 대해 설명하시오.\n"
   ]
  },
  {
   "cell_type": "markdown",
   "metadata": {},
   "source": [
    "설명: \n",
    "\n",
    "- 공통점: 모듈이나 클래스나 전체적인 프로그램을 모듈화 시키는 기능을 한다(독립적인 구성요소로 사용) , 코드의 재사용 및 작업의 효율성을 증대시킨다.\n",
    "\n",
    "- 차이점: 모듈은 파일단위로 이름공간을 구성하며  클래스는 클래스 영역 내에 이름공간을 구성한다. 또 각각의 자료형을 제공한다. 모듈은 .py로 끝나는 확장자 파일이다.\n",
    "\n",
    "----\n"
   ]
  },
  {
   "cell_type": "markdown",
   "metadata": {},
   "source": [
    "\n",
    "#####[2번 문제]\n",
    "\n",
    "다형성에 대해 설명하고 다형성을 보여주는 자신만의 파이썬 코드 예제를 제시하시오."
   ]
  },
  {
   "cell_type": "code",
   "execution_count": 6,
   "metadata": {
    "collapsed": false
   },
   "outputs": [
    {
     "name": "stdout",
     "output_type": "stream",
     "text": [
      "인지 능력이 있다.\n",
      "여자보다 힘이 세다.\n",
      "남자보다 말을 잘한다.\n",
      "어머니야 말로 지상 최고의 여자다.\n"
     ]
    }
   ],
   "source": [
    "class Human:\n",
    "    def feature(self):\n",
    "        print '인지 능력이 있다.'\n",
    "        \n",
    "class Man(Human):\n",
    "    def feature(self):\n",
    "        print '여자보다 힘이 세다.'\n",
    "\n",
    "class Girl(Human):\n",
    "    def feature(self):\n",
    "        print '남자보다 말을 잘한다.'\n",
    "\n",
    "class Mom(Girl):\n",
    "    def feature(self):\n",
    "        print '어머니야 말로 지상 최고의 여자다.'\n",
    "    \n",
    "\n",
    "for each in (Human() , Man() , Girl() , Mom()):\n",
    "    each.feature()"
   ]
  },
  {
   "cell_type": "markdown",
   "metadata": {},
   "source": [
    "설명:  \n",
    "\n",
    "- 다형성(Polymorphism) 이란 상속 관계 내의 다른 클래스들의 인스터스들이 같은 멤버 함수 호출에 대해 각각 다르게 반응하도록 하는 기능이다. 연산자 오버로딩도 다형성을 지원하는 기술중 하나이다.  \n",
    "- 예를 들어 a와 b의 객체형에 따라 a+b의  + 연산자 행동방식이 변경되는것을 말한다.  a,b의 타입이 정수일경우 정수를 더하고 문자열일경우 문자열를 더한다.\n",
    "- 다형상의 장점    \n",
    "\n",
    "     1.적은 코딩으로 다양한 객체들에게 유사한 작업을 수행시킬 수 있다.   \n",
    "     2.프로그램 작성 코드 량이 줄어든다.   \n",
    "     3.코드의 가독성을 높여준다   \n",
    "\n",
    "\n",
    "- 파이썬에서 다형성의 장점         \n",
    "\n",
    "    1.형 선언이 없다는 점에서 파이썬에서는 다형성을 적용하기가 더욱 용이하다.   \n",
    "    2.실시간으로 객체의 형이 결정되므로 단 하나의 메소드에 의해 처리될 수 있는 객체의 종류에 제한이 없다.즉 다른 언어보다 코드 양이 더욱 줄어든다\n",
    "  \n",
    "소스설명:\n",
    "\n",
    "- Human 이라는 클래스의 feature 함수는 '인지능력이 있다' 라는 문구를 출력하는 기능을 가지고 있따. Human을 상속받은 Man과 Girl 은 각각 feature 함수를 클래스 특징에 맞게 재정의(override) 하여 남자는 '여자보다 힘이세다'  , 여자는 ' 남자보다 말을 잘한다' 라는 문구를 출력하게한다. 그리고 Mom 클래스는 GIrl 클래스를 상속 받아 feature 함수의 문구를 '어머니야 말로 지상 최고의 여자다.' 로 변경한다.    \n",
    "- for문안의 each 객체형이 동적으로 결정되므로 그떄마다 feature 함수가 다르게 사용된다. \n",
    "\n",
    "----"
   ]
  },
  {
   "cell_type": "markdown",
   "metadata": {
    "collapsed": true
   },
   "source": [
    "#####[3번 문제]  \n",
    "\n",
    "다음 각 요구사항 모두를 만족시키는 Counter 클래스를 코딩하시오 (정답을 각 요구사항별로 입력할 필요 없이 3번 문제에 대해 1개의 클래스 정의 코드를 제시하면 된다.)\n",
    "\n",
    "- 요구사항 1. 생성자에 count 값과 step 값을 인자로 받을 수 있다.\n",
    "\n",
    "    - count: Counter 인스턴스가 지니는 초기 정수 값\n",
    "    - step: Counter 인스턴스의 count가 증가되는 증분 (defalt 값: 1)\n",
    "    \n",
    "    \n",
    "> ####>>> c = Counter(10) \n",
    "> ####>>> d = Counter(10, 2) \n",
    "\n",
    "- 요구사항 2. 다음과 같이 Counter의 인스턴스를 출력을 해주는 __str__() 메소드를 Counter 클래스 내에 구현하시오.\n",
    "\n",
    "> ####>>> print c \n",
    "> ####[Count (step: 1)] 10 \n",
    "> ####>>> print d \n",
    "> ####[Count (step: 2)] 10 \n",
    "- 요구사항 3. 다음과 같이 step에 주어진 증분만큼 count를 증가시키는 incr() 메소드를 Counter 클래스 내에 구현하시오.\n",
    "\n",
    "> ####>>> c.incr() \n",
    "> ####>>> d.incr() \n",
    "> ####>>> print c \n",
    "> ####[Count (step: 1)] 11 \n",
    "> ####>>> print d \n",
    "> ####[Count (step: 2)] 12 \n",
    "\n",
    "- 요구사항 4. Counter 클래스 내에 관련 메소드를 추가하여 인스턴스 객체를 직접 호출(call)할 수 있도록 하시오. 인스턴스 객체를 직접 호출했을 때에 내부적으로 incr() 메소드를 호출하는 방법으로 구현하시오.\n",
    "\n",
    "> ####>>> c() \n",
    "> ####>>> d() \n",
    "> ####>>> print c \n",
    "> ####[Count (step: 1)] 12 \n",
    "> ####>>> print d \n",
    "> ####[Count (step: 2)] 14 \n",
    "\n",
    "- 요구사항 5. 다음과 같은 두 개의 산술 연산 (+, -)이 수행될 수 있도록 Counter 클래스 내에 관련 메소드를 추가하시오.\n",
    "\n",
    "> ####>>> c = c + 5 \n",
    "> ####>>> d = d - 5 \n",
    "> ####>>> print c \n",
    "> ####[Count (step: 1)] 17 \n",
    "> ####>>> print d \n",
    "> ####[Count (step: 2)] 9 \n",
    "\n",
    "- 요구사항 6. 다음과 같은 관계연산 (>, <, ==)이 수행될 수 있도록 Counter 클래스 내에 관련 메소드를 추가하시오.\n",
    "\n",
    "> ####>>> print c > 10 \n",
    "> ####True \n",
    "> ####>>> print d > 10 \n",
    "> ####False \n",
    "> ####>>> print c < 10 \n",
    "> ####False \n",
    "> ####>>> print d < 10 \n",
    "> ####True \n",
    "> ####>>> print c == 17 \n",
    "> ####True \n",
    "> ####>>> print d != 9 \n",
    "> ####False "
   ]
  },
  {
   "cell_type": "code",
   "execution_count": 1,
   "metadata": {
    "collapsed": false
   },
   "outputs": [
    {
     "name": "stdout",
     "output_type": "stream",
     "text": [
      "[Count (step: 1)] 10 \n",
      "[Count (step: 2)] 10 \n",
      "\n",
      "[Count (step: 1)] 11 \n",
      "[Count (step: 2)] 12 \n",
      "\n",
      "[Count (step: 1)] 12 \n",
      "[Count (step: 2)] 14 \n",
      "\n",
      "[Count (step: 1)] 17 \n",
      "[Count (step: 2)] 9 \n",
      "\n",
      "True\n",
      "False\n",
      "False\n",
      "True\n",
      "True\n",
      "False\n"
     ]
    }
   ],
   "source": [
    "# -*- coding: utf-8 -*-\n",
    "\n",
    "class Counter:\n",
    "    def __init__(self,count,step=1):\n",
    "        self.count = count\n",
    "        self.step = step\n",
    "    def __str__(self):\n",
    "     ##   return \"[Count (step: %s)] %s \" % (str(self.step),str(self.count))\n",
    "     return \"[Count (step: %d)] %d \" % (self.step,self.count)\n",
    "    def incr(self):\n",
    "        self.count = self.count + self.step\n",
    "    def __call__(self):\n",
    "        self.count = self.count + self.step\n",
    "    def __add__(self,other):\n",
    "        self.count = self.count + other \n",
    "        return self\n",
    "    def __sub__(self,other):\n",
    "        self.count = self.count - other \n",
    "        return self\n",
    "    def __lt__(self,other):\n",
    "        return self.count < other \n",
    "    def __gt__(self,other):\n",
    "        return self.count > other \n",
    "    def __eq__(self,other):\n",
    "        return self.count == other \n",
    "    def __ne__(self,other):\n",
    "        return self.count != other \n",
    "\n",
    "## 요구사항 1        \n",
    "c = Counter(10)\n",
    "d = Counter(10,2)\n",
    "\n",
    "## 요구사항 2\n",
    "print c    ## 출력 [Count (step: 1)] 10 \n",
    "print d    ## 출력 [Count (step: 2)] 10 \n",
    "print \n",
    "\n",
    "## 요구사항 3\n",
    "c.incr()\n",
    "d.incr()\n",
    "print c    ## 출력 [Count (step: 1)] 11  \n",
    "print d    ## 출력 [Count (step: 2)] 12 \n",
    "print \n",
    "\n",
    "## 요구사항 4\n",
    "## __call__ 메소드가 구현되어있으면 인스터스를 함수와같이 호출할수 있다.\n",
    "\n",
    "c()\n",
    "d()\n",
    "print c     ## 출력 [Count (step: 1)] 12   \n",
    "print d     ## 출력 [Count (step: 2)] 14   \n",
    "print \n",
    "\n",
    "## 요구사항 5\n",
    "\n",
    "c = c + 5\n",
    "d = d - 5 \n",
    "\n",
    "print c     ## 출력 [Count (step: 1)] 17 \n",
    "print d     ## 출력 [Count (step: 2)] 9         \n",
    "print \n",
    "## 요구사항 6\n",
    "\n",
    "print c > 10\n",
    "print d > 10\n",
    "print c < 10\n",
    "print d < 10\n",
    "print c == 17\n",
    "print d != 9"
   ]
  },
  {
   "cell_type": "markdown",
   "metadata": {},
   "source": [
    "설명:\n",
    "\n",
    "- Counter 클래스의 생성자는 count 인자와 step 인자를 받도록 하였다. step 인자는 입력하지 않을 경우 기본값으로 1이 들어간다 \n",
    "- 인스턴스들을 print 하였을때 인스턴스의 count,step 변수들을 출력해주기 위하여 --str-- 메소드를 사용하였다.  \n",
    "- 인스턴스가 incr() 메소드를 호출할경우 인스턴스가 가지고있는 count 변수에 step 값만큼 증가하여 저장하도록 하였다.\n",
    "- --call-- 메소드는 인스턴스 자신을 함수처럼 호출할수 있도록 하는 함수로 이 함수가 호출될 경우 incr() 과 같은 증분을 하는 기능을 수행한다.\n",
    "- --add-- 와 --sub-- 메소드를 사용하여 인스턴스가 + , - 연산 수행시 인스턴스 내부의  count 변수에  연산자 오른쪽 추가한 값만큼 저장시키도록 하였다.\n",
    "- --lt-- , --gt-- , --eq--, --ne-- 메소드를 사용하여 크다 , 작다 , 같다, 같지않다 비교연산자를 수행하여 True, False 값이 출력되도록 하였다.\n",
    "\n",
    "\n",
    "마크다운 언더바가 안되서 -- 로 표기했습니다.\n",
    "\n",
    "----\n"
   ]
  },
  {
   "cell_type": "markdown",
   "metadata": {
    "collapsed": true
   },
   "source": [
    "\n",
    "#####[4번 문제]\n",
    "\n",
    "다음은 내장 자료형 list를 서브클래싱하여 만든 MySet 클래스 정의 내용이다. 다음 클래스 정의에서 --init--(), --str()--(), elimicate_duplicate()의 세 개의 메소드 코드 내용을 자신이 다른 사람에게 가르친다고 생각하며 설명해보시오.\n",
    "\n",
    "- MySet은 집합(Set) 자료형을 정의하려는 의도하에 만들어진 클래스이다."
   ]
  },
  {
   "cell_type": "code",
   "execution_count": 1,
   "metadata": {
    "collapsed": false
   },
   "outputs": [
    {
     "name": "stdout",
     "output_type": "stream",
     "text": [
      "MySet: {1 ,2 ,3}\n",
      "MySet: {2 ,3 ,4 ,5 ,6 ,7 ,8 ,9}\n"
     ]
    }
   ],
   "source": [
    "class MySet(list):\n",
    "    def __init__(self, l):\n",
    "        for e in l:\n",
    "            self.append(e)                ## self에 append 시킨다(for in 구문으로 얻은 인자 e를) - 내장자료형인 list 의 기능을 상속받음 \n",
    "        MySet.eliminate_duplicate(self)   ## eliminate_duplicat 정적메소드 를 self를 인자로 넘겨 호출한다.\n",
    "    \n",
    "    def __str__(self):                           ##인스턴스를 print 하였을때 __str__ 메소드 가 호출되어  result를 출력해준다. \n",
    "        result = \"MySet: {\"\n",
    "        for e in self:                           ## for in 구문으로 self -> 생성자를 호출할때 만들어진 리스트 를 돌린다.\n",
    "            result = result + str(e) + \" ,\"      ##얻은 e를 문자열로 변경후 기존 result에 저장된 문자열에 더한다  \n",
    "        result = result[0:len(result)-2] + \"}\"   ## result의 마지막에 } 를 추가시켜주어  원소개 1,2,3 이였으면 {1 ,2 ,3} 과같이 만들어준다. \n",
    "        return result                             \n",
    "\n",
    "    @staticmethod                       ## 정적메소드 : 객체 없이 클래스명으로 호출이 가능 MySet.eliminate_duplicate() 와같이 사용가능\n",
    "    def eliminate_duplicate(l):         \n",
    "        s = []\n",
    "        for e in l:\n",
    "            if e not in s:              ## 인자( 리스트 l ) 의 값들이 리스트 S에 없다면 append로 s에 집어넣어준다. 중복값 제거\n",
    "                s.append(e)\n",
    "        l[:] = []\n",
    "        for e in s:                     ## 중복값이 제거된 리스트 값들을 다시 리스트 l로 append 해준다.\n",
    "            l.append(e)\n",
    "\n",
    "    \n",
    "if __name__ == \"__main__\":\n",
    "    s = MySet([1, 2, 2, 3])\n",
    "    print s\n",
    "    t = MySet([2, 3, 4, 5, 6, 7, 8, 8, 8, 8, 8, 9])\n",
    "    print t"
   ]
  },
  {
   "cell_type": "markdown",
   "metadata": {
    "collapsed": true
   },
   "source": [
    "설명:\n",
    "\n",
    "--init-- 메소드\n",
    "\n",
    "- MySet 클래스는 내장자료형인 list를 상속받는다 . 상속을 받을때는 class MySet(list): 와 같이 괄호안에 상속받을 부모클래스를 써준다.\n",
    "- --int-- 메소드는 생성자로 인스턴스가 생성될때 호출되는 메소드이다 인자를 self와 l 을 받으므로 인스턴스생성시 인자 l을 입력해주어야하며 입력된 인자(리스트)가 for e in l  구문아래의 self.append(e) 를 통해 각원소들이 MySet의 리스트로 저장이된다.\n",
    "- MySet.eliminate_duplicate(self) 정적메소드 를 호출하여 위에서 얻어온 리스트를 인자로 넘기다.\n",
    "\n",
    "--str-- 메소드\n",
    "\n",
    "- --str-- 메소드는 인스턴스를 print 하였을때 --str-- 메소드 가 호출되어 result를 출력해준다. \n",
    "- for e in self  즉 self(생성자부분에서의 작업 정적메소드 eliminate_duplicate(self) 를 거치는 작업)를 for in 구문을 돌려서 각 원소들을 문자열로 바꾸어 result에 저장시킨다 최종 형태는 리스트가 [1,2,3] 이였다면 {1 ,2 ,3} 이 출력된다.\n",
    "\n",
    "def eliminate_duplicate(l):\n",
    "\n",
    "- 정적메소드는 객체없이 클래스명으로 호출이가능하다  MySet.eliminate_duplicate() 와같이 사용가능\n",
    "- 생성자에서 받아온 self 인자를 통해 for in 구문을 돌리고  if e not in s:  구문을 통해 중복된 원소가 없는지 찾아 중복된 워소를 제거해 저장시킨다.\n",
    "- 뽑아낸 리스트를 다시 self 로 저장시키기 위해 변수l(self)에 append 시킨다.\n",
    "\n",
    "\n",
    "if --name-- == \"--main--\": \n",
    "-  구문 은 여기가 시작위치다라는 것을 알려주기위한 표식의 역할이다 이 부분은 자신이 직접 수행될때 수행되는 부분이라고 보면된다\n",
    "\n",
    "---"
   ]
  },
  {
   "cell_type": "markdown",
   "metadata": {},
   "source": [
    "#####[5번 문제]\n",
    "\n",
    "4번 문제에 정의된 MySet 클래스에 메소드를 추가하여 다음 각 요구사항 모두를 만족시키는 코딩을 제시하시오\n",
    "\n",
    "- 정답을 각 요구사항별로 입력할 필요 없이 요구사항 3개 전체에 대해 1개의 MySet 클래스 정의 코드를 제시하고 주석등으로 해당 코드를 설명한다.\n",
    "- 요구사항 1. | 연산으로 두 집합의 합집합을 반환한다.\n",
    "\n",
    "> ####>>> u = s | t     \n",
    "> ####>>> print u     \n",
    "> ####MySet: {1, 2, 3, 4, 5, 6, 7, 8, 9} \n",
    "\n",
    "- 요구사항 2. & 연산으로 두 집합의 교집합을 반환한다.\n",
    "\n",
    "> #### >>> u = s & t \n",
    "> #### >>> print u \n",
    "> #### MySet: {2, 3} \n",
    "\n",
    "- 요구사항 3. - 연산으로 두 집합의 차집합을 반환한다.\n",
    "\n",
    "> ####>>> s = MySet([1, 2, 3]) \n",
    "> ####>>> t = MySet([3, 4, 5]) \n",
    "> ####>>> u = s - t \n",
    "> ####>>> print u \n",
    "> ####MySet: {1} "
   ]
  },
  {
   "cell_type": "code",
   "execution_count": 37,
   "metadata": {
    "collapsed": false
   },
   "outputs": [
    {
     "name": "stdout",
     "output_type": "stream",
     "text": [
      "MySet: {1 ,2 ,3}\n",
      "MySet: {2 ,3 ,4 ,5 ,6 ,7 ,8 ,9}\n",
      "\n",
      "u = s | t\n",
      "MySet: {1 ,2 ,3 ,4 ,5 ,6 ,7 ,8 ,9}\n",
      "\n",
      "u = s & t\n",
      "MySet: {2 ,3}\n",
      "\n",
      "u = s - t\n",
      "MySet: {1 ,2}\n",
      "\n",
      "6\n",
      "True\n",
      "True\n"
     ]
    }
   ],
   "source": [
    "class MySet(list):\n",
    "    def __init__(self, l):\n",
    "        for e in l:\n",
    "            self.append(e)\n",
    "        MySet.eliminate_duplicate(self)\n",
    "    \n",
    "    def __str__(self):\n",
    "        result = \"MySet: {\"\n",
    "        for e in self:\n",
    "            result = result + str(e) + \" ,\"\n",
    "        result = result[0:len(result)-2] + \"}\"\n",
    "        return result\n",
    "    \n",
    "    \n",
    "    def __or__(self, other):             ## __or__ 는 연산자 s|t 를 사용하면 호출되는 메소드 self 에는 s가 들어가고 other에는 t가 들어간다.\n",
    "        \n",
    "        result = MySet([])               ## 계산된 결과값을 저장하기위해 result 인스턴스를 하나 생성\n",
    "        result.extend(self)              ## 왼쪽의 s(self)를 extend 함수를 사용해 result에 넣는다.\n",
    "        \n",
    "        for e in other:                  ## for in 구문을 돌린 other 원소값들을 \n",
    "            if e not in self:            ## if 조건문으로 값의 존재여부를 확인하고\n",
    "                result.append(e)          ## 만약 존재하지 않을경우 append 시켜서 result에 저장시킨다.\n",
    "        \n",
    "        return result\n",
    "    \n",
    "    def __and__(self, other):           ## __and__ 는 연산자 s|t 를 사용하면 호출되는 메소드 self 에는 s가 들어가고 other에는 t가 들어간다.\n",
    "        result = MySet([])              ## 계산된 결과값을 저장하기위해 result 인스턴스를 하나 생성                           \n",
    "        \n",
    "        \n",
    "        for e in other:                 ## for in 구문을 돌린 other 원소값들을 \n",
    "            if e in self:               ## if 조건문으로 self 집합들의 원소값들과 비교후 존재할경우\n",
    "               result.append(e)         ## result 에 append 시킨다.\n",
    "      \n",
    "        \n",
    "        return result\n",
    "    \n",
    "    def __sub__(self, other):         ## __sub__ 는 연산자 s-t 를 사용하면 호출되는 메소드 self 에는 s가 들어가고 other에는 t가 들어간다.\n",
    "        result = MySet([])            ## 계산된 결과값을 저장하기위해 result 인스턴스를 하나 생성   \n",
    "        result.extend(self)           ## 왼쪽의 s(self)를 extend 함수를 사용해 result에 넣는다.\n",
    "        \n",
    "        for e in other:               ## for in 구문을 돌린 other 원소값들을 \n",
    "            if e in self:             ## if 조건문으로 self 집합들의 원소값들과 비교후 존재할경우\n",
    "                result.remove(e)      ## result에서 remove() 함수를사용해 제거한다.\n",
    "        \n",
    "        return result\n",
    "    \n",
    "    \n",
    "    \n",
    "        \n",
    "    @staticmethod    \n",
    "    def eliminate_duplicate(l):\n",
    "        s = []\n",
    "        for e in l:\n",
    "            if e not in s:\n",
    "                s.append(e)\n",
    "        l[:] = []\n",
    "        for e in s:\n",
    "            l.append(e)\n",
    "\n",
    "    \n",
    "if __name__ == \"__main__\":\n",
    "    s = MySet([1, 2, 2, 3])\n",
    "    print s\n",
    "    t = MySet([2, 3, 4, 5, 6, 7, 8, 8, 8, 8, 8, 9])\n",
    "    print t\n",
    "    print\n",
    "    \n",
    "    \n",
    "    u = s | t\n",
    "    print  'u = s | t'\n",
    "    print u\n",
    "    print\n",
    "    \n",
    "    \n",
    "    print 'u = s & t'\n",
    "    u = s & t\n",
    "    print u \n",
    "    print\n",
    "    \n",
    "    s = MySet([1, 2, 3])\n",
    "    t = MySet([3, 4, 5])\n",
    "    u = s - t\n",
    "    print 'u = s - t'\n",
    "    print u\n",
    "    print\n",
    "\n",
    "    \n",
    "    s = MySet([1, 2, 3, 4, 5, 6]) \n",
    "    print len(s) \n",
    "\n",
    "    print bool(s) \n",
    "\n",
    "    print 2 in s \n"
   ]
  },
  {
   "cell_type": "markdown",
   "metadata": {
    "collapsed": true
   },
   "source": [
    "설명-  소스코드 옆에 주석으로 보시는게 더 편하실것같습니다.\n",
    "\n",
    "--or--\n",
    "\n",
    "- --or-- 는 연산자 s|t 를 사용하면 호출되는 메소드 self 에는 s가 들어가고 other에는 t가 들어간다. \n",
    "- 계산된 결과값을 저장하기위해 result 인스턴스를 하나 생성\n",
    "- 왼쪽의 s(self)를 extend 함수를 사용해 result에 넣는다.\n",
    "- for in 구문을 돌린 other 원소값들을 \n",
    "- if 조건문으로 값의 존재여부를 확인하고\n",
    "- 만약 존재하지 않을경우 append 시켜서 result에 저장시킨다.\n",
    "        \n",
    "     \n",
    "--and--\n",
    "- --and-- 는 연산자 s|t 를 사용하면 호출되는 메소드 self 에는 s가 들어가고 other에는 t가 들어간다.\n",
    "- 계산된 결과값을 저장하기위해 result 인스턴스를 하나 생성                                  \n",
    "- for in 구문을 돌린 other 원소값들을 \n",
    "- if 조건문으로 self 집합들의 원소값들과 비교후 존재할경우\n",
    "- result 에 append 시킨다.\n",
    "      \n",
    "\n",
    "--sub--     \n",
    "\n",
    "- --sub-- 는 연산자 s-t 를 사용하면 호출되는 메소드 self 에는 s가 들어가고 other에는 t가 들어간다.\n",
    "- 계산된 결과값을 저장하기위해 result 인스턴스를 하나 생성   \n",
    "- 왼쪽의 s(self)를 extend 함수를 사용해 result에 넣는다.\n",
    "        \n",
    "- for in 구문을 돌린 other 원소값들을 \n",
    "- if 조건문으로 self 집합들의 원소값들과 비교후 존재할경우\n",
    "- result에서 remove() 함수를사용해 제거한다.\n",
    "\n",
    "-----"
   ]
  },
  {
   "cell_type": "markdown",
   "metadata": {},
   "source": [
    "#####[6번 문제]\n",
    "\n",
    "5번 문제에서 정의한 MySet 클래스에 대해 다음 예제를 수행하면 오류없이 올바르게 동작하는 것을 확인할 수 있다. 다음 예제 내에 있는 len(), bool() 내장함수와 in 키워드 사용 예제가 별다른 메소드 정의를 하지 않았는 데도 올바르게 수행되는 이유를 설명하시오.\n",
    "\n",
    "> \\>\\>\\> s = MySet([1, 2, 3, 4, 5, 6])  <br/>\n",
    "> \\>\\>\\> print len(s)  <br/>\n",
    "> 6 <br/>\n",
    "> \\>\\>\\> print bool(s)  <br/>\n",
    "> True <br/>\n",
    "> \\>\\>\\> print 2 in s  <br/>\n",
    "> True <br/>"
   ]
  },
  {
   "cell_type": "code",
   "execution_count": 41,
   "metadata": {
    "collapsed": false
   },
   "outputs": [
    {
     "name": "stdout",
     "output_type": "stream",
     "text": [
      "3\n",
      "True\n",
      "True\n"
     ]
    }
   ],
   "source": [
    "l = list()\n",
    "l.append(1)\n",
    "l.append(2)\n",
    "l.append(3)\n",
    "\n",
    "print len(l)\n",
    "print bool(l)\n",
    "print 2 in l"
   ]
  },
  {
   "cell_type": "markdown",
   "metadata": {},
   "source": [
    "설명 \n",
    "\n",
    "- 내장자료형인 list 를 상속받았기때문에 list 의 기능들을 사용할수 있다.  \n",
    "- 소스코드 처럼 리스트도 len() , bool() , in 과같은 메소드 들을 기본적으로 사용이가능하다. 그렇기때문에 상속받은 MySet도 그 기능들을 사용가능하다.\n",
    "\n",
    "----"
   ]
  },
  {
   "cell_type": "markdown",
   "metadata": {
    "collapsed": true
   },
   "source": [
    "#####[7번 문제]\n",
    "\n",
    "프로젝트 오일러 문제 16"
   ]
  },
  {
   "cell_type": "code",
   "execution_count": 1,
   "metadata": {
    "collapsed": false
   },
   "outputs": [
    {
     "name": "stdout",
     "output_type": "stream",
     "text": [
      "1366\n"
     ]
    }
   ],
   "source": [
    "sum = 0 \n",
    "for g in str(2 ** 1000):\n",
    "    sum += int(g)\n",
    "\n",
    "print sum\n"
   ]
  },
  {
   "cell_type": "markdown",
   "metadata": {},
   "source": [
    "설명:\n",
    "\n",
    "2^1000  을 문자열로 변경후 각 인덱스의 수 -> 각 자리수의 숫자를 가져와 int 형으로 바꾼후 sum 변수에 누적시킨다.\n",
    "\n",
    "---"
   ]
  },
  {
   "cell_type": "markdown",
   "metadata": {},
   "source": [
    "######[8번 문제]\n",
    "\n",
    "프로젝트 오일러 문제 17"
   ]
  },
  {
   "cell_type": "code",
   "execution_count": 4,
   "metadata": {
    "collapsed": false
   },
   "outputs": [
    {
     "name": "stdout",
     "output_type": "stream",
     "text": [
      "21124\n"
     ]
    }
   ],
   "source": [
    "word = ('','one', 'two', 'three', 'four', 'five', 'six', 'seven', 'eight', 'nine', 'ten', 'eleven', 'twelve', 'thirteen', 'fourteen', 'fifteen', 'sixteen', 'seventeen', 'eighteen', 'nineteen', 'twenty', 'thirty', 'forty', 'fifty', 'sixty', 'seventy', 'eighty', 'ninety', 'hundred', 'thousand')\n",
    "\n",
    "num = (0,1, 2, 3, 4, 5, 6, 7, 8, 9, 10, 11, 12, 13, 14, 15, 16, 17, 18, 19, 20, 30, 40, 50, 60, 70, 80, 90, 100, 1000)\n",
    "\n",
    "a = dict(zip(num,word))\n",
    " \n",
    "count = 0\n",
    "for n in range(1,1001):\n",
    "    if n <= 20:\n",
    "        count +=len(a[n])\n",
    "    elif (len(str(n))==2) and (n >=21) :\n",
    "        count += len(a[int(str(n)[0:1]+'0')])\n",
    "        count += len(a[int(str(n)[1:2])])\n",
    "        \n",
    "    elif (len(str(n))==3) : \n",
    "        \n",
    "        if (str(n)[1:2]=='0') and (str(n)[2:3]=='0') :\n",
    "            count += len(a[int(str(n)[0:1])])\n",
    "            count += len(a[100])\n",
    "        else:\n",
    "            count += len(a[int(str(n)[0:1])])\n",
    "            count += len(a[100])\n",
    "            count += len('and')\n",
    "            \n",
    "            if int(str(n)[1:3]) <= 20:\n",
    "                count += len(a[int(str(n)[1:3])])\n",
    "            else:\n",
    "                count += len(a[int(str(n)[1:2]+'0')])\n",
    "                count += len(a[int(str(n)[2:3])])\n",
    "    else:\n",
    "        count += len(a[int(str(n)[0:1])])\n",
    "        count += len(a[n])\n",
    "        \n",
    "        \n",
    "print count "
   ]
  },
  {
   "cell_type": "markdown",
   "metadata": {},
   "source": [
    "설명:\n",
    "\n",
    "- word변수와 num 변수에 각각 알파벳과 그 알파벳에 맞는 숫자를 저장하고  dict(zip(num,word)) 함수를 사용하여 숫자를 key 알파벳을 value로 가지는 사전 객체를 하나 만든다.\n",
    "\n",
    "- for in 구문을 사용하여 1부터 1000까지의 숫자를 돌리게끔 하고 제일먼저 1~ 20까지의 숫자를 검사해 a[n]   n은 1부터 20까지고 사전객체의 키값에 맞는 value(알파벳)를 가져와 len() 으로 문자열 길이를 재고 count 변수에 누적시킨다.\n",
    "\n",
    "- 그다음은 2자리수 이상이면서 21이상인 수를 조건으로 잡고 첫째자리에 문자열 + 0을 더해 그값을 key로 넘겨 value를 받아 그 문자열 길이를 count 변수에 누적시킨다. 마찬가지로 첫재짜리는 슬라이스[1:2] 를사용하여 사전객체에서 value 를 찾아 문자열길이를 count변수에 누적시킨다.\n",
    "\n",
    "- 3째자리 (100~999) 까지 조건을 만들어 100 , 200 , 300 과같이 2번째자리 3번째자리가 0인 값을 구별하여 키값에 맞느 value의 문자열 길이를 count 변수에 누적시키고 아닐경우 and 의 문자열길이를 추가하고 1~20 의 조건과 , 21~99까지의 조건을 만들어서 이에 맞게 문자열 길이를 누적시켜준다(슬라이스를 이용하여 자리수 구분).\n",
    "\n",
    "- 마지막으로 1000 은 맨 앞자리의 수 one 을 구별해 문자열 길이를 저장하고  1000 = thousand 이므로 이의 문자열 길이를 누적시킨다. 결과값은 21124가 나왔다.\n",
    "\n",
    "\n"
   ]
  },
  {
   "cell_type": "markdown",
   "metadata": {},
   "source": [
    "######[9번 문제]\n",
    "\n",
    "프로젝트 오일러 문제 18"
   ]
  },
  {
   "cell_type": "code",
   "execution_count": 8,
   "metadata": {
    "collapsed": false
   },
   "outputs": [
    {
     "name": "stdout",
     "output_type": "stream",
     "text": [
      "1074\n"
     ]
    }
   ],
   "source": [
    "# -*- coding: utf-8 -*-\n",
    "\n",
    "sam = '''75\n",
    "95 64\n",
    "17 47 82\n",
    "18 35 87 10\n",
    "20 04 82 47 65\n",
    "19 01 23 75 03 34\n",
    "88 02 77 73 07 63 67\n",
    "99 65 04 28 06 16 70 92\n",
    "41 41 26 56 83 40 80 70 33\n",
    "41 48 72 33 47 32 37 16 94 29\n",
    "53 71 44 65 25 43 91 52 97 51 14\n",
    "70 11 33 28 77 73 17 78 39 68 17 57\n",
    "91 71 52 38 17 14 91 43 58 50 27 29 48\n",
    "63 66 04 68 89 53 67 30 73 16 69 87 40 31\n",
    "04 62 98 27 23 09 70 98 73 93 38 53 60 04 23'''\n",
    "\n",
    "l = []\n",
    "for line in sam.split('\\n'):\n",
    "    l.append([int(e) for e in line.split()])\n",
    "\n",
    "for i in range(len(l)-1):                   ## 각층\n",
    "    l[i+1][0] = l[i][0] + l[i+1][0]         ## 각층의 왼쪽 원소 를 먼저 저장 max함수로 비교하기위해\n",
    "    for j in range(len(l[i])-1):            ## 각층의 원소들\n",
    "        l[i+1][j+1] = max(l[i][j],l[i][j+1]) + l[i+1][j+1]  ## 그층의 다음 원소 에  위 층의 원소중 큰값과 지금 원소를 더해 다시 제자리에 놓아준다.  \n",
    "    l[i+1][-1] = l[i][-1] + l[i+1][-1]                      ##  l[i+1][-1]  가장 오른쪽 수 를 저장 \n",
    "\n",
    " \n",
    "print max(l[-1])"
   ]
  },
  {
   "cell_type": "markdown",
   "metadata": {},
   "source": [
    "설명:\n",
    "\n",
    "- 먼저 삼각수 문자열을  for in 문법과 split 함수를 사용하여 라인별로 나누어  리스트에 2차 리스트로 저장시킨다. \n",
    "\n",
    "-  층별로 나누는 for in 구문과 각층의 수를 돌리는 for in 구문 2개를 이중 반복문으로 구성하였다. 각층의 왼쪽원소와 바로 아래층 왼쪽원소를 더하여 아래층 왼쪽원소가 있던 자리에 저장시킨다. 그리고 각층의 수를 구별하는 for in 구문에서 max 함수르 사용하여 상층의 원소 2개중 큰수와 아래층의 수( l[i+1][j+1] ) 를 더해서  다시 ( l[i+1][j+1]) 에 저장시킨다 \n",
    "\n",
    "- 이렇게 그층의 수들을 위층의 큰수와 더하고 더한값으로 교체시킨다\n",
    "\n",
    "- 각층의 가장 오른쪽 원소들을 더해서 따로 저장시킨다.\n",
    "\n",
    "- 이중리스트 l[-1] 에 위의 동작들이 돌면서 각 라인별로 더해진수들이 존재하게 되고 그중 가장 큰 값을 출력시킨다.\n",
    "\n",
    "---"
   ]
  },
  {
   "cell_type": "markdown",
   "metadata": {},
   "source": [
    "######[10번 문제]\n",
    "\n",
    "프로젝트 오일러 문제 19"
   ]
  },
  {
   "cell_type": "code",
   "execution_count": 27,
   "metadata": {
    "collapsed": false
   },
   "outputs": [
    {
     "name": "stdout",
     "output_type": "stream",
     "text": [
      "171\n"
     ]
    }
   ],
   "source": [
    "from datetime import date\n",
    "print [date(y,m,1).weekday() for m in range(1,13) for y in range(1901,2001)].count(6)"
   ]
  },
  {
   "cell_type": "markdown",
   "metadata": {},
   "source": [
    "설명:\n",
    "\n",
    "- Datetime 모듈의 date 클래스를 사용하기 위해 from import 시킴 \n",
    "- 리스트 내포를 사용하여 달을 구분하기위한 for m in range(1,13) 과  년을 구분하기위한 for y in range(1901,2001) 를 사용하여 date생성자로 년 월 일(1일) 을 넘겨주어 그 날의 요일 값 weekday() 함수 리턴을 받아 리스트에 저장시키고 그중 6 인수( 일요일 ) 만을 리스트 내장함수 count() 를 사용하여 출력해준다\n",
    "\n",
    "----"
   ]
  },
  {
   "cell_type": "markdown",
   "metadata": {},
   "source": [
    "######[11번 문제]\n",
    "\n",
    "프로젝트 오일러 문제 20"
   ]
  },
  {
   "cell_type": "code",
   "execution_count": 30,
   "metadata": {
    "collapsed": false
   },
   "outputs": [
    {
     "name": "stdout",
     "output_type": "stream",
     "text": [
      "648\n"
     ]
    }
   ],
   "source": [
    "def fac(n):\n",
    "    if n == 0: \n",
    "        return 1\n",
    "    else:\n",
    "        return fac(n-1) * n\n",
    "sum=0\n",
    "\n",
    "for a in str(fac(100)):\n",
    "    sum+=int(a)\n",
    "print sum \n",
    "    "
   ]
  },
  {
   "cell_type": "markdown",
   "metadata": {},
   "source": [
    "설명:\n",
    "\n",
    "- 인자가 0일때는 1을 리턴하고 아니면 fac(n-1) * n  으로 재귀함수를 구현한 fac 함수를 구현하고\n",
    "- for in 구문에 fac(100) 결과값을 문자열로 변환하여 받아오고 각 자리를 int 형으로 다시 변환여 sum 변수에 누적시켜 출력한다.\n",
    "\n",
    "----"
   ]
  },
  {
   "cell_type": "markdown",
   "metadata": {},
   "source": [
    "######[12번 문제]\n",
    "\n",
    "프로젝트 오일러 문제 21"
   ]
  },
  {
   "cell_type": "code",
   "execution_count": 1,
   "metadata": {
    "collapsed": false
   },
   "outputs": [
    {
     "name": "stdout",
     "output_type": "stream",
     "text": [
      "31626\n"
     ]
    }
   ],
   "source": [
    "\n",
    "l = []\n",
    "s = 0 \n",
    "f = 0\n",
    "hap=[]\n",
    "\n",
    "for a in range(1,10001):      ## 1부터 10000 까지의 수 검사\n",
    "    for b in range(1,a):      ##  1차적으로 자신을 제외한 약수들의 합을 구하기위해 for in 구문을 사용하여\n",
    "        if a % b == 0:\n",
    "            l.append(b)       ##  약수일경우 리스트 l에 append 시키고 \n",
    "    \n",
    "    s=sum(l)                  ##  한수의 약수를 구하면 그 약수들이 저장된 리스트 l을 sum함수를 사용하여 합을 변수 s 에 저장한다.\n",
    "    l[:]=\"\"                   ## 리스트 l은 다시 비워준다.\n",
    "    \n",
    "    for c in range (1,s):     ## 이번에는 친화쌍인 다른수를 구하기위해 앞에서구한 수의 약수들의 합 변수 s를 범위로 잡고 다시 for in 문을 돌린다.\n",
    "        if s % c == 0:        ## 역시 약수일경우\n",
    "            l.append(c)       ## 리스트 l 에 append 시키고\n",
    "    \n",
    "    f=sum(l)                  ## 그 합을 변수 f 에 저장시킨다.\n",
    "    l[:]=\"\"                   ## 리스트l은 다시 비워준다.\n",
    "\n",
    "    if a==f and s !=f :       ##만약 a==f(a자신을 제외한 약수의 합의 변수)가 친화쌍을 만족시키는 조건이고 친화쌍은 서로 같으면 안되므로 s !=f 조건을 추가하여 and 를 만족하면\n",
    "        \n",
    "        hap.append(a)         ##최종적으로 hap 리스트에 append 시키고\n",
    "    \n",
    "print sum(hap)                ##sum 함수를 이용해 hap 에저장된 리스트 값들의 합을 출력한다.\n"
   ]
  },
  {
   "cell_type": "markdown",
   "metadata": {
    "collapsed": true
   },
   "source": [
    "설명 - 주석을 보시는게 더 편하실것 같습니다.\n",
    "\n",
    "\n",
    "- 가장먼저 1부터 10000 까지의 수 검사\n",
    "- 1차적으로 자신을 제외한 약수들의 합을 구하기위해 for in 구문을 사용하여 약수일경우 리스트 l에 append 시키고   \n",
    "- 한수의 약수를 구하면 그 약수들이 저장된 리스트 l을 sum함수를 사용하여 합을 변수 s 에 저장한다. 리스트 l은 다시 비워준다.\n",
    "    \n",
    "- 그다음 친화쌍인 다른수를 구하기위해 앞에서구한 수의 약수들의 합 변수 s를 범위로 잡고 다시 for in 문을 돌린다.\n",
    "- 역시 약수일경우 리스트 l 에 append 시키고 그 합을 변수 f 에 저장시킨다. 리스트l은 다시 비워준다.\n",
    "\n",
    "- 만약 a==f(a자신을 제외한 약수의 합의 변수)가 친화쌍을 만족시키는 조건이고 친화쌍은 서로 같으면 안되므로 s !=f 조건을 추가하여 and 를 만족하면 최종적으로 hap 리스트에 append 시키고 sum 함수를 이용해 hap 에저장된 리스트 값들의 합을 출력한다.\n",
    "\n",
    "----"
   ]
  },
  {
   "cell_type": "code",
   "execution_count": null,
   "metadata": {
    "collapsed": true
   },
   "outputs": [],
   "source": []
  }
 ],
 "metadata": {
  "kernelspec": {
   "display_name": "Python 2",
   "language": "python",
   "name": "python2"
  },
  "language_info": {
   "codemirror_mode": {
    "name": "ipython",
    "version": 2
   },
   "file_extension": ".py",
   "mimetype": "text/x-python",
   "name": "python",
   "nbconvert_exporter": "python",
   "pygments_lexer": "ipython2",
   "version": "2.7.9"
  }
 },
 "nbformat": 4,
 "nbformat_minor": 0
}
